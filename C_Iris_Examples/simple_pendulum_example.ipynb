{
 "cells": [
  {
   "cell_type": "code",
   "execution_count": null,
   "metadata": {},
   "outputs": [],
   "source": [
    "%load_ext autoreload"
   ]
  },
  {
   "cell_type": "code",
   "execution_count": null,
   "metadata": {},
   "outputs": [],
   "source": [
    "import numpy as np\n",
    "from functools import partial\n",
    "import visualizations_utils as viz_utils\n",
    "from iris_plant_visualizer2 import IrisPlantVisualizer\n",
    "import ipywidgets as widgets\n",
    "from IPython.display import display\n",
    "from scipy.linalg import block_diag\n",
    "import matplotlib.pyplot as plt\n",
    "import cdd\n",
    "from pathlib import Path\n",
    "import os\n",
    "import random"
   ]
  },
  {
   "cell_type": "code",
   "execution_count": null,
   "metadata": {},
   "outputs": [],
   "source": [
    "#pydrake imports\n",
    "from pydrake.common import FindResourceOrThrow\n",
    "from pydrake.multibody.parsing import Parser\n",
    "from pydrake.multibody.plant import AddMultibodyPlantSceneGraph\n",
    "from pydrake.systems.framework import DiagramBuilder\n",
    "from pydrake.geometry import Role, GeometrySet, CollisionFilterDeclaration\n",
    "from pydrake.solvers import mathematicalprogram as mp\n",
    "from pydrake.all import RigidTransform, RollPitchYaw, RevoluteJoint\n",
    "from pydrake.all import RotationMatrix\n",
    "import pydrake.symbolic as sym\n",
    "import time\n",
    "from pydrake.all import CspaceFreeLine, Sphere, Rgba, CspaceFreeRegion\n",
    "import pydrake.multibody.rational_forward_kinematics as rational_forward_kinematics\n",
    "from pydrake.all import VerificationOption\n",
    "\n",
    "from pydrake.all import RationalForwardKinematics\n",
    "from pydrake.geometry.optimization import IrisOptionsRationalSpace, IrisInRationalConfigurationSpace, HPolyhedron, Hyperellipsoid"
   ]
  },
  {
   "cell_type": "code",
   "execution_count": null,
   "metadata": {},
   "outputs": [],
   "source": [
    "import logging\n",
    "drake_logger = logging.getLogger(\"drake\")\n",
    "drake_logger.setLevel(logging.DEBUG)"
   ]
  },
  {
   "cell_type": "markdown",
   "metadata": {},
   "source": [
    "# Build and set up the visualization the plant and the visualization of the C-space obstacle\n",
    "\n",
    "Note that running this cell multiple times will establish multiple meshcat instances which can fill up your memory. It is a good idea to call \"pkill -f meshcat\" from the command line before re-running this cell\n"
   ]
  },
  {
   "cell_type": "code",
   "execution_count": null,
   "metadata": {},
   "outputs": [],
   "source": [
    "builder = DiagramBuilder()\n",
    "plant, scene_graph = AddMultibodyPlantSceneGraph(builder, time_step=0.001)\n",
    "parser = Parser(plant)\n",
    "\n",
    "\n",
    "\n",
    "\n",
    "pendulum_world = FindResourceOrThrow(\"drake/C_Iris_Examples/assets/single_pendulum_world.urdf\")\n",
    "\n",
    "models = []\n",
    "models.append(parser.AddModelFromFile(pendulum_world))\n",
    "\n",
    "plant.Finalize()\n",
    "Ratfk = RationalForwardKinematics(plant)\n",
    "\n",
    "# the point about which we will take the stereographic projections\n",
    "q_star = np.zeros(1)\n",
    "\n",
    "# #compute limits in t-space\n",
    "limits_q = [plant.GetPositionLowerLimits().item(), plant.GetPositionUpperLimits().item()]\n",
    "limits_s = [Ratfk.ComputeTValue(np.array([q]), q_star) for q in limits_q]\n",
    "do_viz = True\n",
    "\n",
    "# This line builds the visualization. Change the viz_role to Role.kIllustration if you\n",
    "# want to see the plant with its illustrated geometry or to Role.kProximity\n",
    "visualizer = IrisPlantVisualizer(plant, builder, scene_graph, viz_role=Role.kIllustration)\n",
    "diagram = visualizer.diagram\n"
   ]
  },
  {
   "cell_type": "code",
   "execution_count": null,
   "metadata": {},
   "outputs": [],
   "source": [
    "# filter fused joints self collisions so they don't interfere with collision engine\n",
    "digaram = visualizer.diagram\n",
    "context = visualizer.diagram_context\n",
    "sg_context = scene_graph.GetMyContextFromRoot(context)\n",
    "inspector = scene_graph.model_inspector()\n",
    "\n",
    "pairs = scene_graph.get_query_output_port().Eval(sg_context).inspector().GetCollisionCandidates()\n",
    "\n",
    "gids = [gid for gid in inspector.GetGeometryIds(GeometrySet(inspector.GetAllGeometryIds()), Role.kProximity)]\n",
    "get_name_of_gid = lambda gid : inspector.GetName(gid)\n",
    "gids.sort(key=get_name_of_gid)\n",
    "\n",
    "id_pairs_of_interest = [(gid1, gid2) for i, gid1 in enumerate(gids) for gid2 in gids[i+1:] ]\n",
    "print(id_pairs_of_interest)\n",
    "visualizer.collision_pairs_of_interest = id_pairs_of_interest\n"
   ]
  },
  {
   "cell_type": "code",
   "execution_count": null,
   "metadata": {},
   "outputs": [],
   "source": [
    "visualizer.visualize_collision_constraint2d(factor = 1.2, num_points = 100)"
   ]
  },
  {
   "cell_type": "code",
   "execution_count": null,
   "metadata": {},
   "outputs": [],
   "source": [
    "visualizer.meshcat2.Set2dRenderMode(RigidTransform(RotationMatrix.MakeZRotation(0), np.array([0,0,1])))\n"
   ]
  },
  {
   "cell_type": "markdown",
   "metadata": {},
   "source": [
    "## Set up the sliders so we can move the plant around manually"
   ]
  },
  {
   "cell_type": "code",
   "execution_count": null,
   "metadata": {
    "scrolled": false
   },
   "outputs": [],
   "source": [
    "sliders = []\n",
    "sliders.append(widgets.FloatSlider(min=plant.GetPositionLowerLimits().item(),\n",
    "                                   max=plant.GetPositionUpperLimits().item(), \n",
    "                                   value=0, description='q0'))\n",
    "# sliders.append(widgets.FloatSlider(min=q_low[2], max=q_high[2], value=0, description='q2'))\n",
    "\n",
    "q = np.array([0])\n",
    "def handle_slider_change(change, idx):\n",
    "    q[idx] = change['new']\n",
    "    visualizer.showres(q)\n",
    "    visualizer.visualize_planes()\n",
    "    \n",
    "idx = 0\n",
    "for slider in sliders:\n",
    "    slider.observe(partial(handle_slider_change, idx = idx), names='value')\n",
    "    idx+=1\n",
    "\n",
    "for slider in sliders:\n",
    "    display(slider)\n",
    "\n",
    "\n",
    "# visualizer.jupyter_cell()"
   ]
  },
  {
   "cell_type": "code",
   "execution_count": null,
   "metadata": {
    "scrolled": true
   },
   "outputs": [],
   "source": [
    "s0 = np.array([limits_s[1] - 0.1])\n",
    "s1_safe = np.array([0.0])\n",
    "s1_unsafe = np.array([-0.1])\n",
    "\n",
    "def plot_edge(s0, s1, s0_name = \"s0\", s1_name = \"s1\"):\n",
    "    visualizer.meshcat2.SetObject(f\"/{s0_name}\",\n",
    "                                 Sphere(0.05),\n",
    "                                 Rgba(0.0, 1.0, 0, 1))\n",
    "    s0_3d = np.array([s0.item(), 0, 0])\n",
    "    s1_3d = np.array([s1.item(), 0, 0])\n",
    "    print(s0_3d)\n",
    "    print(s1_3d)\n",
    "    visualizer.meshcat2.SetTransform(f\"/{s0_name}\",\n",
    "                                  RigidTransform(RotationMatrix(),\n",
    "                                                 s0_3d))\n",
    "    \n",
    "    visualizer.meshcat2.SetObject(f\"/{s1_name}\",\n",
    "                                 Sphere(0.05),\n",
    "                                 Rgba(1.0, 0.0, 0, 1))\n",
    "    visualizer.meshcat2.SetTransform(f\"/{s1_name}\",\n",
    "                                   RigidTransform(RotationMatrix(),\n",
    "                                                 s1_3d))\n",
    "    visualizer.meshcat2.SetLine(f\"/edge_{s0_name}_{s1_name}\", \n",
    "                                np.hstack([s0_3d[:,np.newaxis], s1_3d[:, np.newaxis]]),\n",
    "                                line_width = 2, rgba = Rgba(0.0, 0.0, 0.0, 1))\n",
    "plot_edge(s0,s1_safe, s1_name = \"s1_safe\")\n",
    "plot_edge(s0,s1_unsafe, s1_name = \"s1_unsafe\")\n",
    "plot_edge(limits_s[0],limits_s[1], s0_name = \"joint limit low\", s1_name = \"joint limit high\")"
   ]
  },
  {
   "cell_type": "code",
   "execution_count": null,
   "metadata": {},
   "outputs": [],
   "source": [
    "limits_s[1]-eps"
   ]
  },
  {
   "cell_type": "code",
   "execution_count": null,
   "metadata": {},
   "outputs": [],
   "source": [
    "t0 = time.time()\n",
    "line_certifier = CspaceFreeLine(diagram, plant, scene_graph,\n",
    "                                rational_forward_kinematics.SeparatingPlaneOrder.kAffine, \n",
    "                                np.zeros(1),\n",
    "                                set(), VerificationOption()\n",
    "                               )\n",
    "t1 = time.time()\n",
    "print(f\"Time to construct line certifier = {t1-t0}s\")"
   ]
  },
  {
   "cell_type": "code",
   "execution_count": null,
   "metadata": {},
   "outputs": [],
   "source": [
    "\n",
    "safe = line_certifier.CertifyTangentConfigurationSpaceLine(s0,s1_safe)\n",
    "print(safe)\n",
    "safe = line_certifier.CertifyTangentConfigurationSpaceLine(s0,s1_unsafe)\n",
    "print(safe)\n"
   ]
  },
  {
   "cell_type": "code",
   "execution_count": null,
   "metadata": {},
   "outputs": [],
   "source": []
  }
 ],
 "metadata": {
  "interpreter": {
   "hash": "31f2aee4e71d21fbe5cf8b01ff0e069b9275f58929596ceb00d14d90e3e16cd6"
  },
  "kernelspec": {
   "display_name": "Python 3",
   "language": "python",
   "name": "python3"
  },
  "language_info": {
   "codemirror_mode": {
    "name": "ipython",
    "version": 3
   },
   "file_extension": ".py",
   "mimetype": "text/x-python",
   "name": "python",
   "nbconvert_exporter": "python",
   "pygments_lexer": "ipython3",
   "version": "3.8.10"
  }
 },
 "nbformat": 4,
 "nbformat_minor": 2
}
