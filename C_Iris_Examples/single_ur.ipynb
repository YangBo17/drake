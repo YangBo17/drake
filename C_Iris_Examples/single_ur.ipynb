{
 "cells": [
  {
   "cell_type": "markdown",
   "metadata": {
    "cell_id": "05dfa839dda6411296e883dc0809afe9",
    "deepnote_cell_type": "markdown",
    "tags": []
   },
   "source": [
    "# 6DOF Robot with a shelf\n",
    "In this notebook, we deploy our algorithm on a 6DOF robot interacting with a shelf. We demonstrate that combining Algorithm 2 in Appendix F of \"Certified Polyhedral Decompositions of Collision-Free Configuration Space\" with the certification algorithm given in Algorithm 1 can yield certified configuration-space regions that can reach a large amount of task space.\n",
    "\n",
    "**Please copy a Mosek License to mosek.lic to run this** Failure to do so will result in the Scs solver being called which is too inaccurate for many of these problem.\n",
    "\n",
    "Notebook runtime: about 30 minutes"
   ]
  },
  {
   "cell_type": "code",
   "execution_count": null,
   "metadata": {
    "cell_id": "25982552131647a981ef875cafed44bd",
    "deepnote_cell_type": "code",
    "deepnote_to_be_reexecuted": false,
    "execution_millis": 226,
    "execution_start": 1677097870207,
    "source_hash": "103ef91c"
   },
   "outputs": [],
   "source": [
    "%load_ext autoreload"
   ]
  },
  {
   "cell_type": "code",
   "execution_count": null,
   "metadata": {
    "cell_id": "7beca53533004e13942704cf2890a840",
    "deepnote_cell_type": "code",
    "deepnote_to_be_reexecuted": false,
    "execution_millis": 451,
    "execution_start": 1677097883779,
    "source_hash": "2364ac58"
   },
   "outputs": [],
   "source": [
    "import numpy as np\n",
    "from functools import partial\n",
    "from iris_plant_visualizer import IrisPlantVisualizer\n",
    "import ipywidgets as widgets\n",
    "from IPython.display import display\n",
    "import os"
   ]
  },
  {
   "cell_type": "code",
   "execution_count": null,
   "metadata": {
    "cell_id": "3c464a8e20444e4c8c81671fcfa891b3",
    "deepnote_cell_type": "code",
    "deepnote_to_be_reexecuted": false,
    "execution_millis": 2,
    "execution_start": 1677097885426,
    "source_hash": "98e9cc68"
   },
   "outputs": [],
   "source": [
    "#pydrake imports\n",
    "import time\n",
    "from pydrake.all import RationalForwardKinematics\n",
    "from pydrake.geometry.optimization import IrisOptions, IrisInRationalConfigurationSpace, HPolyhedron, Hyperellipsoid\n",
    "from pydrake.solvers import MosekSolver, CommonSolverOption, SolverOptions, ScsSolver"
   ]
  },
  {
   "cell_type": "code",
   "execution_count": null,
   "metadata": {
    "cell_id": "dff4fcf565fd4482b544fc9c0dfc598d",
    "deepnote_cell_type": "code",
    "deepnote_to_be_reexecuted": false,
    "execution_millis": 1,
    "execution_start": 1677097885619,
    "source_hash": "486b21ad"
   },
   "outputs": [],
   "source": [
    "from pydrake.geometry.optimization_dev import (CspaceFreePolytope,\n",
    "                                               CIrisSeparatingPlane,\n",
    "                                               SeparatingPlaneOrder)\n"
   ]
  },
  {
   "cell_type": "code",
   "execution_count": null,
   "metadata": {
    "cell_id": "d7ec61c35f2d43d78ad0102bd048386b",
    "deepnote_cell_type": "code",
    "deepnote_to_be_reexecuted": false,
    "execution_millis": 1,
    "execution_start": 1677097886048,
    "source_hash": "6402e045"
   },
   "outputs": [],
   "source": [
    "from pydrake.geometry.optimization_dev import (CspaceFreePolytope, \n",
    "                                               SeparatingPlaneOrder)"
   ]
  },
  {
   "cell_type": "code",
   "execution_count": null,
   "metadata": {
    "cell_id": "8da59c25aad445328a0523fff7526184",
    "deepnote_cell_type": "code",
    "deepnote_to_be_reexecuted": false,
    "execution_millis": 2,
    "execution_start": 1677097886091,
    "source_hash": "8a1f4a8e"
   },
   "outputs": [],
   "source": [
    "from ur3e_demo import UrDiagram\n",
    "import ur3e_demo\n",
    "import visualization_utils as viz_utils\n"
   ]
  },
  {
   "cell_type": "markdown",
   "metadata": {
    "cell_id": "5630227e824441f4aff2f447457943b7",
    "deepnote_cell_type": "markdown"
   },
   "source": [
    "# Build and set up the visualization the plant\n",
    "Click on the link at the bottom to view a visualization of the plant."
   ]
  },
  {
   "cell_type": "code",
   "execution_count": null,
   "metadata": {
    "cell_id": "b2ad4c1f0c624022999dbfe399b05671",
    "deepnote_cell_type": "code",
    "deepnote_to_be_reexecuted": false,
    "execution_millis": 1596,
    "execution_start": 1677097886621,
    "source_hash": "25e7cdc1"
   },
   "outputs": [],
   "source": [
    "ur = UrDiagram(num_ur = 1, weld_wrist = False, add_shelf = True,\n",
    "                 add_gripper = True)\n",
    "diagram_context = ur.diagram.CreateDefaultContext()\n",
    "diagram = ur.diagram.ForcedPublish(diagram_context)\n",
    "\n",
    "plant_context = ur.plant.GetMyMutableContextFromRoot(\n",
    "        diagram_context)\n",
    "scene_graph_context = ur.scene_graph.GetMyMutableContextFromRoot(\n",
    "    diagram_context)\n",
    "inspector = ur.scene_graph.model_inspector()        \n",
    "        \n",
    "# construct the RationalForwardKinematics of this plant. This object handles the\n",
    "# computations for the forward kinematics in the tangent-configuration space\n",
    "Ratfk = RationalForwardKinematics(ur.plant)\n",
    "\n",
    "# the point about which we will take the stereographic projections\n",
    "q_star = np.zeros(ur.plant.num_positions())\n",
    "\n",
    "# The object we will use to perform our certification.\n",
    "cspace_free_polytope = CspaceFreePolytope(ur.plant, ur.scene_graph,\n",
    "                                          SeparatingPlaneOrder.kAffine, q_star)\n"
   ]
  },
  {
   "cell_type": "markdown",
   "metadata": {
    "cell_id": "71ee0543dce44d41af0dc8b54ddc7e66",
    "deepnote_cell_type": "markdown"
   },
   "source": [
    "## Set up the sliders so we can move the plant around manually\n",
    "\n",
    "You can use the sliders below to move the two degrees of freedom of the plant around. A green dot will appear in the TC-space visualization describing the current TC-space configuration."
   ]
  },
  {
   "cell_type": "code",
   "execution_count": null,
   "metadata": {
    "cell_id": "225a1101a2df434d81891264bd922c31",
    "deepnote_cell_type": "code",
    "deepnote_to_be_reexecuted": false,
    "execution_millis": 11,
    "execution_start": 1677097888225,
    "scrolled": false,
    "source_hash": "6f92a57a"
   },
   "outputs": [],
   "source": [
    "sliders = []\n",
    "for i in range(ur.plant.num_positions()):\n",
    "    q_low = ur.plant.GetPositionLowerLimits()[i]\n",
    "    q_high = ur.plant.GetPositionUpperLimits()[i]\n",
    "    sliders.append(widgets.FloatSlider(min=q_low, max=q_high, value=0, description=f\"q{i}\"))\n",
    "\n",
    "q = np.zeros(ur.plant.num_positions())\n",
    "def handle_slider_change(change, idx):\n",
    "    q[idx] = change['new']\n",
    "    ur.plant.SetPositions(plant_context, q)\n",
    "    ur.diagram.ForcedPublish(diagram_context)\n",
    "    \n",
    "idx = 0\n",
    "for slider in sliders:\n",
    "    slider.observe(partial(handle_slider_change, idx = idx), names='value')\n",
    "    idx+=1\n",
    "\n",
    "for slider in sliders:\n",
    "    display(slider)\n"
   ]
  },
  {
   "cell_type": "markdown",
   "metadata": {
    "cell_id": "6cef4f3016b3471ab927115058075b17",
    "deepnote_cell_type": "markdown",
    "tags": []
   },
   "source": [
    "## Set up the solver for certifying the region. \n"
   ]
  },
  {
   "cell_type": "code",
   "execution_count": null,
   "metadata": {
    "cell_id": "0376a02786094b44a1d4a834fb6266b6",
    "deepnote_cell_type": "code",
    "deepnote_to_be_reexecuted": false,
    "execution_millis": 2,
    "execution_start": 1677097888300,
    "source_hash": "4f45dd82"
   },
   "outputs": [],
   "source": [
    "solver_id = MosekSolver.id() if MosekSolver().available() else ScsSolver.id()\n",
    "\n",
    "# set up the certifier and the options for different search techniques\n",
    "solver_options = SolverOptions()\n",
    "# set this to 1 if you would like to see the solver output in terminal.\n",
    "solver_options.SetOption(CommonSolverOption.kPrintToConsole, 0)\n",
    "\n",
    "# The options for when we search for new planes and positivity certificates given the polytopes\n",
    "find_separation_certificate_given_polytope_options = CspaceFreePolytope.FindSeparationCertificateGivenPolytopeOptions()\n",
    "find_separation_certificate_given_polytope_options.num_threads = -1\n",
    "find_separation_certificate_given_polytope_options.verbose = False\n",
    "find_separation_certificate_given_polytope_options.solver_options = solver_options\n",
    "find_separation_certificate_given_polytope_options.ignore_redundant_C = False\n",
    "find_separation_certificate_given_polytope_options.solver_id = solver_id\n",
    "\n",
    "# The options for when we search for a new polytope given positivity certificates.\n",
    "find_polytope_given_lagrangian_option = CspaceFreePolytope.FindPolytopeGivenLagrangianOptions()\n",
    "find_polytope_given_lagrangian_option.solver_options = solver_options\n",
    "find_polytope_given_lagrangian_option.ellipsoid_margin_cost = CspaceFreePolytope.EllipsoidMarginCost.kGeometricMean\n",
    "find_polytope_given_lagrangian_option.search_s_bounds_lagrangians = True\n",
    "find_polytope_given_lagrangian_option.ellipsoid_margin_epsilon = 1e-4\n",
    "find_polytope_given_lagrangian_option.solver_id = solver_id\n",
    "\n",
    "\n",
    "\n",
    "bilinear_alternation_options = CspaceFreePolytope.BilinearAlternationOptions()\n",
    "bilinear_alternation_options.max_iter = 10\n",
    "bilinear_alternation_options.convergence_tol = 1e-3\n",
    "bilinear_alternation_options.find_polytope_options = find_polytope_given_lagrangian_option\n",
    "bilinear_alternation_options.find_lagrangian_options = find_separation_certificate_given_polytope_options\n",
    "\n",
    "binary_search_options = CspaceFreePolytope.BinarySearchOptions()\n",
    "binary_search_options.find_lagrangian_options = find_separation_certificate_given_polytope_options\n",
    "binary_search_options.scale_min = 1e-3\n",
    "binary_search_options.scale_max = 1.0\n",
    "binary_search_options.max_iter = 5\n"
   ]
  },
  {
   "cell_type": "markdown",
   "metadata": {
    "cell_id": "c7eaacf3659e49b4a55704f1f0640793",
    "deepnote_cell_type": "markdown"
   },
   "source": [
    "# Generate and Certify Regions\n",
    "\n",
    "Around some nominal seed postures, we will grow certified regions using Algorithm 2 which we will later certify."
   ]
  },
  {
   "cell_type": "code",
   "execution_count": null,
   "metadata": {
    "cell_id": "bbfeea59b64147c1a83484a078851298",
    "deepnote_cell_type": "code",
    "deepnote_to_be_reexecuted": false,
    "execution_millis": 1,
    "execution_start": 1677101752507,
    "source_hash": "70951c20"
   },
   "outputs": [],
   "source": [
    "# Some seedpoints\n",
    "q_top_shelf = np.array([-0.63, -1.03, 0.17, -2.33, -0.73, 0])\n",
    "q_middle_shelf = np.array([-0.40, -0.28, -0.79,  0.94,  1.05, 0])\n",
    "q_bottom_shelf = np.array([-0.13, -1.18,  1.62, -0.43, 1.57, 0])\n",
    "seed_points_q = np.array([   \n",
    "                              q_top_shelf,\n",
    "                              q_middle_shelf,\n",
    "                              q_bottom_shelf\n",
    "                              ])\n",
    "\n",
    "seed_points = np.array([Ratfk.ComputeSValue(q, q_star)for q in seed_points_q])\n",
    "s_top_shelf = Ratfk.ComputeSValue(q_top_shelf, q_star)\n",
    "s_middle_shelf = Ratfk.ComputeSValue(q_middle_shelf, q_star)\n",
    "s_bottom_shelf = Ratfk.ComputeSValue(q_bottom_shelf, q_star)"
   ]
  },
  {
   "cell_type": "code",
   "execution_count": null,
   "metadata": {
    "cell_id": "f6df5c77756e4bf3990ff6d562c807be",
    "deepnote_cell_type": "code",
    "deepnote_to_be_reexecuted": false,
    "execution_millis": 2,
    "execution_start": 1677101764685,
    "source_hash": "4e8b9d5b"
   },
   "outputs": [],
   "source": [
    "iris_regions = []\n",
    "iris_ellipses = []\n",
    "\n",
    "iris_options = IrisOptions()\n",
    "iris_options.require_sample_point_is_contained = True\n",
    "iris_options.configuration_space_margin = 1e-3\n",
    "iris_options.relative_termination_threshold = 0.001\n",
    "\n",
    "for i, s in enumerate(seed_points):\n",
    "    q = Ratfk.ComputeQValue(s, q_star)\n",
    "    ur.plant.SetPositions(plant_context, q)\n",
    "    r = IrisInRationalConfigurationSpace(ur.plant, \n",
    "                                         plant_context,\n",
    "                                         q_star, iris_options)\n",
    "    iris_regions.append(r)\n",
    "    iris_ellipses.append(r.MaximumVolumeInscribedEllipsoid())\n"
   ]
  },
  {
   "cell_type": "markdown",
   "metadata": {
    "cell_id": "be214290f8874ae3b1dd228eef7172a1",
    "deepnote_cell_type": "markdown",
    "tags": []
   },
   "source": [
    "### We now attempt to find the smallest uniform shrinkage of our region which we are capable of certifying"
   ]
  },
  {
   "cell_type": "code",
   "execution_count": null,
   "metadata": {
    "cell_id": "7fe539a1eec644d49446fea19161917f",
    "deepnote_cell_type": "code",
    "deepnote_to_be_reexecuted": false,
    "execution_millis": 597193,
    "execution_start": 1677101764690,
    "source_hash": "2f2adda8"
   },
   "outputs": [],
   "source": [
    "binary_search_region_certificates_for_iris = dict.fromkeys([tuple(s) for s in seed_points])\n",
    "for i, (s, initial_region) in enumerate(zip(seed_points, iris_regions)):\n",
    "    print(f\"starting seedpoint {i+1}/{len(iris_regions)}\")\n",
    "    time.sleep(0.2)    \n",
    "    cert = cspace_free_polytope.BinarySearch(set(),\n",
    "                                                    initial_region.A(),\n",
    "                                                    initial_region.b(), \n",
    "                                                    np.array(s),\n",
    "                                                    binary_search_options)\n",
    "    binary_search_region_certificates_for_iris[tuple(s)] = cert.certified_polytope"
   ]
  },
  {
   "cell_type": "code",
   "execution_count": null,
   "metadata": {
    "cell_id": "7de7506abde34a8d96e13bdd7ffe4f87",
    "deepnote_cell_type": "code",
    "deepnote_to_be_reexecuted": false,
    "execution_millis": 0,
    "execution_start": 1677102361886,
    "source_hash": "88bcc32d",
    "tags": []
   },
   "outputs": [],
   "source": [
    "def walk_around_region(region, num_verts):\n",
    "    walk = viz_utils.generate_walk_around_polytope(region, num_verts)\n",
    "    # Set robot link color. Hightlight the body with the closest distance.\n",
    "    num_samples = 100\n",
    "    time_points = np.linspace(0, walk.end_time(), num_samples)\n",
    "    for t in time_points:\n",
    "        s = walk.value(t)\n",
    "        q = Ratfk.ComputeQValue(s, q_star)\n",
    "        pair, distance = ur3e_demo.closest_distance(ur, plant_context, q)\n",
    "        ur.plant.SetPositions(plant_context, q)\n",
    "        ur.diagram.ForcedPublish(diagram_context)\n",
    "        time.sleep(0.1)"
   ]
  },
  {
   "cell_type": "code",
   "execution_count": null,
   "metadata": {
    "cell_id": "14e5514f04a94f3a9b78410d107dda41",
    "deepnote_cell_type": "code",
    "deepnote_to_be_reexecuted": false,
    "execution_millis": 10105,
    "execution_start": 1677099796919,
    "source_hash": "e0e401a6",
    "tags": []
   },
   "outputs": [],
   "source": [
    "region_top_shelf = binary_search_region_certificates_for_iris[tuple(s_top_shelf)]\n",
    "walk_around_region(region_top_shelf, 20)"
   ]
  },
  {
   "cell_type": "code",
   "execution_count": null,
   "metadata": {
    "cell_id": "71453b26717948998c5e3c7b771f79f4",
    "deepnote_cell_type": "code",
    "deepnote_to_be_reexecuted": false,
    "execution_millis": 10036,
    "execution_start": 1677102536235,
    "source_hash": "c6af4c1e",
    "tags": []
   },
   "outputs": [],
   "source": [
    "region_middle_shelf = binary_search_region_certificates_for_iris[tuple(s_middle_shelf)]\n",
    "walk_around_region(region_middle_shelf, 20)"
   ]
  },
  {
   "cell_type": "code",
   "execution_count": null,
   "metadata": {
    "cell_id": "3151aee14c7142dfa837d1213e4513e5",
    "deepnote_cell_type": "code",
    "deepnote_to_be_reexecuted": false,
    "execution_millis": 10079,
    "execution_start": 1677099825045,
    "source_hash": "97f6edf8",
    "tags": []
   },
   "outputs": [],
   "source": [
    "region_bottom_shelf = binary_search_region_certificates_for_iris[tuple(s_bottom_shelf)]\n",
    "walk_around_region(region_bottom_shelf, 20)"
   ]
  },
  {
   "cell_type": "markdown",
   "metadata": {
    "created_in_deepnote_cell": true,
    "deepnote_cell_type": "markdown",
    "tags": []
   },
   "source": [
    "<a style='text-decoration:none;line-height:16px;display:flex;color:#5B5B62;padding:10px;justify-content:end;' href='https://deepnote.com?utm_source=created-in-deepnote-cell&projectId=7e82e4f5-f47a-475a-aad3-c88093ed36c6' target=\"_blank\">\n",
    "<img alt='Created in deepnote.com' style='display:inline;max-height:16px;margin:0px;margin-right:7.5px;' src='data:image/svg+xml;base64,PD94bWwgdmVyc2lvbj0iMS4wIiBlbmNvZGluZz0iVVRGLTgiPz4KPHN2ZyB3aWR0aD0iODBweCIgaGVpZ2h0PSI4MHB4IiB2aWV3Qm94PSIwIDAgODAgODAiIHZlcnNpb249IjEuMSIgeG1sbnM9Imh0dHA6Ly93d3cudzMub3JnLzIwMDAvc3ZnIiB4bWxuczp4bGluaz0iaHR0cDovL3d3dy53My5vcmcvMTk5OS94bGluayI+CiAgICA8IS0tIEdlbmVyYXRvcjogU2tldGNoIDU0LjEgKDc2NDkwKSAtIGh0dHBzOi8vc2tldGNoYXBwLmNvbSAtLT4KICAgIDx0aXRsZT5Hcm91cCAzPC90aXRsZT4KICAgIDxkZXNjPkNyZWF0ZWQgd2l0aCBTa2V0Y2guPC9kZXNjPgogICAgPGcgaWQ9IkxhbmRpbmciIHN0cm9rZT0ibm9uZSIgc3Ryb2tlLXdpZHRoPSIxIiBmaWxsPSJub25lIiBmaWxsLXJ1bGU9ImV2ZW5vZGQiPgogICAgICAgIDxnIGlkPSJBcnRib2FyZCIgdHJhbnNmb3JtPSJ0cmFuc2xhdGUoLTEyMzUuMDAwMDAwLCAtNzkuMDAwMDAwKSI+CiAgICAgICAgICAgIDxnIGlkPSJHcm91cC0zIiB0cmFuc2Zvcm09InRyYW5zbGF0ZSgxMjM1LjAwMDAwMCwgNzkuMDAwMDAwKSI+CiAgICAgICAgICAgICAgICA8cG9seWdvbiBpZD0iUGF0aC0yMCIgZmlsbD0iIzAyNjVCNCIgcG9pbnRzPSIyLjM3NjIzNzYyIDgwIDM4LjA0NzY2NjcgODAgNTcuODIxNzgyMiA3My44MDU3NTkyIDU3LjgyMTc4MjIgMzIuNzU5MjczOSAzOS4xNDAyMjc4IDMxLjY4MzE2ODMiPjwvcG9seWdvbj4KICAgICAgICAgICAgICAgIDxwYXRoIGQ9Ik0zNS4wMDc3MTgsODAgQzQyLjkwNjIwMDcsNzYuNDU0OTM1OCA0Ny41NjQ5MTY3LDcxLjU0MjI2NzEgNDguOTgzODY2LDY1LjI2MTk5MzkgQzUxLjExMjI4OTksNTUuODQxNTg0MiA0MS42NzcxNzk1LDQ5LjIxMjIyODQgMjUuNjIzOTg0Niw0OS4yMTIyMjg0IEMyNS40ODQ5Mjg5LDQ5LjEyNjg0NDggMjkuODI2MTI5Niw0My4yODM4MjQ4IDM4LjY0NzU4NjksMzEuNjgzMTY4MyBMNzIuODcxMjg3MSwzMi41NTQ0MjUgTDY1LjI4MDk3Myw2Ny42NzYzNDIxIEw1MS4xMTIyODk5LDc3LjM3NjE0NCBMMzUuMDA3NzE4LDgwIFoiIGlkPSJQYXRoLTIyIiBmaWxsPSIjMDAyODY4Ij48L3BhdGg+CiAgICAgICAgICAgICAgICA8cGF0aCBkPSJNMCwzNy43MzA0NDA1IEwyNy4xMTQ1MzcsMC4yNTcxMTE0MzYgQzYyLjM3MTUxMjMsLTEuOTkwNzE3MDEgODAsMTAuNTAwMzkyNyA4MCwzNy43MzA0NDA1IEM4MCw2NC45NjA0ODgyIDY0Ljc3NjUwMzgsNzkuMDUwMzQxNCAzNC4zMjk1MTEzLDgwIEM0Ny4wNTUzNDg5LDc3LjU2NzA4MDggNTMuNDE4MjY3Nyw3MC4zMTM2MTAzIDUzLjQxODI2NzcsNTguMjM5NTg4NSBDNTMuNDE4MjY3Nyw0MC4xMjg1NTU3IDM2LjMwMzk1NDQsMzcuNzMwNDQwNSAyNS4yMjc0MTcsMzcuNzMwNDQwNSBDMTcuODQzMDU4NiwzNy43MzA0NDA1IDkuNDMzOTE5NjYsMzcuNzMwNDQwNSAwLDM3LjczMDQ0MDUgWiIgaWQ9IlBhdGgtMTkiIGZpbGw9IiMzNzkzRUYiPjwvcGF0aD4KICAgICAgICAgICAgPC9nPgogICAgICAgIDwvZz4KICAgIDwvZz4KPC9zdmc+' > </img>\n",
    "Created in <span style='font-weight:600;margin-left:4px;'>Deepnote</span></a>"
   ]
  }
 ],
 "metadata": {
  "deepnote": {},
  "deepnote_execution_queue": [],
  "deepnote_notebook_id": "602d7ef29e814350bffacb38a4324ca5",
  "interpreter": {
   "hash": "31f2aee4e71d21fbe5cf8b01ff0e069b9275f58929596ceb00d14d90e3e16cd6"
  },
  "kernelspec": {
   "display_name": "Python 3 (ipykernel)",
   "language": "python",
   "name": "python3"
  },
  "language_info": {
   "codemirror_mode": {
    "name": "ipython",
    "version": 3
   },
   "file_extension": ".py",
   "mimetype": "text/x-python",
   "name": "python",
   "nbconvert_exporter": "python",
   "pygments_lexer": "ipython3",
   "version": "3.10.6"
  }
 },
 "nbformat": 4,
 "nbformat_minor": 1
}
