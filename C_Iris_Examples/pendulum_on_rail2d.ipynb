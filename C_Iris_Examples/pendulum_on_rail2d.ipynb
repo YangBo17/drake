{
 "cells": [
  {
   "cell_type": "code",
   "execution_count": null,
   "metadata": {},
   "outputs": [],
   "source": [
    "%load_ext autoreload"
   ]
  },
  {
   "cell_type": "code",
   "execution_count": null,
   "metadata": {},
   "outputs": [],
   "source": [
    "import numpy as np\n",
    "from functools import partial\n",
    "from iris_plant_visualizer import IrisPlantVisualizer\n",
    "import ipywidgets as widgets\n",
    "from IPython.display import display\n",
    "from scipy.linalg import block_diag"
   ]
  },
  {
   "cell_type": "code",
   "execution_count": null,
   "metadata": {},
   "outputs": [],
   "source": [
    "#pydrake imports\n",
    "from pydrake.common import FindResourceOrThrow\n",
    "from pydrake.multibody.parsing import LoadModelDirectives, Parser, ProcessModelDirectives\n",
    "from pydrake.multibody.plant import AddMultibodyPlantSceneGraph\n",
    "from pydrake.systems.framework import DiagramBuilder\n",
    "from pydrake.geometry import Role, GeometrySet, CollisionFilterDeclaration\n",
    "from pydrake.all import RigidTransform, RollPitchYaw, RevoluteJoint\n",
    "from pydrake.all import RotationMatrix, Rgba\n",
    "import time\n",
    "import pydrake.multibody.rational as rational_forward_kinematics\n",
    "from pydrake.all import RationalForwardKinematics\n",
    "from pydrake.all import GeometrySet, CollisionFilterDeclaration, CollisionFilterManager\n",
    "from pydrake.geometry.optimization import IrisOptions, IrisInRationalConfigurationSpace, HPolyhedron, Hyperellipsoid\n",
    "from pydrake.solvers import MosekSolver, CommonSolverOption, SolverOptions"
   ]
  },
  {
   "cell_type": "code",
   "execution_count": null,
   "metadata": {},
   "outputs": [],
   "source": [
    "from pydrake.geometry.optimization_dev import (CspaceFreePolytope, \n",
    "                                               SeparatingPlaneOrder)"
   ]
  },
  {
   "cell_type": "code",
   "execution_count": 3,
   "metadata": {},
   "outputs": [
    {
     "ename": "ImportError",
     "evalue": "generic_type: type \"RationalForwardKinematics\" is already registered!",
     "output_type": "error",
     "traceback": [
      "\u001b[0;31m---------------------------------------------------------------------------\u001b[0m",
      "\u001b[0;31mImportError\u001b[0m                               Traceback (most recent call last)",
      "Input \u001b[0;32mIn [3]\u001b[0m, in \u001b[0;36m<cell line: 1>\u001b[0;34m()\u001b[0m\n\u001b[0;32m----> 1\u001b[0m \u001b[38;5;28;01mimport\u001b[39;00m \u001b[38;5;21;01mpydrake\u001b[39;00m\u001b[38;5;21;01m.\u001b[39;00m\u001b[38;5;21;01mmultibody\u001b[39;00m\u001b[38;5;21;01m.\u001b[39;00m\u001b[38;5;21;01mrational\u001b[39;00m\n",
      "\u001b[0;31mImportError\u001b[0m: generic_type: type \"RationalForwardKinematics\" is already registered!"
     ]
    }
   ],
   "source": [
    "import pydrake.multibody.rational"
   ]
  },
  {
   "cell_type": "markdown",
   "metadata": {},
   "source": [
    "# Build and set up the visualization the plant and the visualization of the C-space obstacle\n",
    "\n",
    "We first set up a simple 2-DOF system and visualize both the plant and the configuration constraint.Click on the two links at the bottom to view the plant and the configuration space.\n",
    "\n",
    "Note that running this cell multiple times will establish multiple meshcat instances which can fill up your memory. It is a good idea to call \"pkill -f meshcat\" from the command line before re-running this cell\n"
   ]
  },
  {
   "cell_type": "code",
   "execution_count": null,
   "metadata": {},
   "outputs": [],
   "source": [
    "#construct our robot\n",
    "builder = DiagramBuilder()\n",
    "plant, scene_graph = AddMultibodyPlantSceneGraph(builder, time_step=1e-4)\n",
    "collision_filter_manager = scene_graph.collision_filter_manager()\n",
    "inspector = scene_graph.model_inspector()\n",
    "\n",
    "parser = Parser(plant)\n",
    "directives_file = FindResourceOrThrow(\"drake/C_Iris_Examples/directives/trans2dof_directives.yaml\") \n",
    "directives = LoadModelDirectives(directives_file)\n",
    "models = ProcessModelDirectives(directives, plant, parser)\n",
    "\n",
    "# Exclude the base of the iiwa from collision with the box\n",
    "iiwa_base_name = \"iiwa_twoDOF_link_0\"\n",
    "box_base_name = \"box1\"\n",
    "def GetCollisionGeometriesByName(name):\n",
    "    body = plant.GetBodyByName(name)\n",
    "    return plant.GetCollisionGeometriesForBody(body)\n",
    "iiwa_base_geom_set = GeometrySet()\n",
    "iiwa_base_geom_set.Add(GetCollisionGeometriesByName(iiwa_base_name))\n",
    "box_base_geom_set = GeometrySet()\n",
    "box_base_geom_set.Add(GetCollisionGeometriesByName(box_base_name))\n",
    "\n",
    "collision_filter_manager.Apply(\n",
    "    CollisionFilterDeclaration().ExcludeBetween(iiwa_base_geom_set, box_base_geom_set)\n",
    ")\n",
    "plant.Finalize()\n",
    "\n",
    "        \n",
    "# construct the RationalForwardKinematics of this plant. This object handles the\n",
    "# computations for the forward kinematics in the tangent-configuration space\n",
    "Ratfk = RationalForwardKinematics(plant)\n",
    "\n",
    "# the point about which we will take the stereographic projections\n",
    "q_star = np.zeros(plant.num_positions())\n",
    "\n",
    "do_viz = True\n",
    "\n",
    "# The object we will use to perform our certification.\n",
    "cspace_free_polytope = CspaceFreePolytope(plant, scene_graph, SeparatingPlaneOrder.kAffine, q_star)\n",
    "\n",
    "# This line builds the visualization. Change the viz_role to Role.kIllustration if you\n",
    "# want to see the plant with its illustrated geometry or to Role.kProximity if you want\n",
    "# to see the plant with the collision geometries.\n",
    "visualizer = IrisPlantVisualizer(plant, builder, scene_graph, cspace_free_polytope, viz_role=Role.kIllustration)\n",
    "visualizer.visualize_collision_constraint(factor = 1.5, num_points = 100)\n",
    "visualizer.meshcat_cspace.Set2dRenderMode(RigidTransform(RotationMatrix.MakeZRotation(0), np.array([0,0,1])))\n",
    "visualizer.meshcat_task_space.Set2dRenderMode(RigidTransform(RotationMatrix.MakeZRotation(0), np.array([1,0,0])))"
   ]
  },
  {
   "cell_type": "markdown",
   "metadata": {},
   "source": [
    "## Set up the sliders so we can move the plant around manually\n",
    "\n",
    "You can use the sliders below to move the two degrees of freedom of the plant around. A green dot will appear in the TC-space visualization describing the current TC-space configuration."
   ]
  },
  {
   "cell_type": "code",
   "execution_count": null,
   "metadata": {
    "scrolled": false
   },
   "outputs": [],
   "source": [
    "sliders = []\n",
    "for i in range(plant.num_positions()):\n",
    "    q_low = plant.GetPositionLowerLimits()[i]\n",
    "    q_high = plant.GetPositionUpperLimits()[i]\n",
    "    sliders.append(widgets.FloatSlider(min=q_low, max=q_high, value=0, description=f\"q{i}\"))\n",
    "\n",
    "q = np.zeros(plant.num_positions())\n",
    "def handle_slider_change(change, idx):\n",
    "    q[idx] = change['new']\n",
    "    visualizer.show_res_q(q)\n",
    "    \n",
    "idx = 0\n",
    "for slider in sliders:\n",
    "    slider.observe(partial(handle_slider_change, idx = idx), names='value')\n",
    "    idx+=1\n",
    "\n",
    "for slider in sliders:\n",
    "    display(slider)\n"
   ]
  },
  {
   "cell_type": "markdown",
   "metadata": {},
   "source": [
    "# Generate and Certify Regions\n",
    "\n",
    "Around some nominal seed postures, we will grow certified regions by seeding our alternation algorithm using a small initial polytope."
   ]
  },
  {
   "cell_type": "code",
   "execution_count": null,
   "metadata": {},
   "outputs": [],
   "source": [
    "# Some seedpoints\n",
    "seed_points_q = np.array([[-0.07, 1.81],\n",
    "                          [0.03, -1.79],\n",
    "#                           [0.43, -1.69]\n",
    "                         ])\n",
    "seed_points = np.array([Ratfk.ComputeSValue(seed_points_q[idx], np.zeros((2,)))\\\n",
    "                        for idx in range(seed_points_q.shape[0])])\n",
    "if do_viz:\n",
    "    visualizer.plot_cspace_points(seed_points, \"/iris_seed_points\")\n",
    "    \n",
    "\n",
    "\n",
    "default_scale = 1e-2\n",
    "L1_ball = HPolyhedron.MakeL1Ball(2)\n",
    "Linf_ball = HPolyhedron.MakeBox(-np.ones(2), np.ones(2))\n",
    "\n",
    "template_C = np.vstack([L1_ball.A(), Linf_ball.A()])\n",
    "template_d = np.hstack([default_scale*L1_ball.b(), default_scale/np.sqrt(2)*Linf_ball.b()])\n",
    "\n",
    "\n",
    "def make_default_polytope_at_point(seed_point):\n",
    "    return HPolyhedron(template_C, template_d + template_C @ seed_point)\n",
    "\n",
    "\n",
    "# colors to plot the region. Chosen for color-blind compatibility\n",
    "default_alpha = 0.2\n",
    "colors_dict = {\n",
    "    0: Rgba(0.565, 0.565, 0.565, default_alpha), # gray\n",
    "    1: Rgba(0.118, 0.533, 0.898, default_alpha), # bluish\n",
    "    2: Rgba(1,     0.757, 0.027, default_alpha), # gold\n",
    "    3: Rgba(0,     0.549, 0.024, default_alpha), # green   \n",
    "    4: Rgba(0.055, 0.914, 0.929, default_alpha), # teal \n",
    "}\n",
    "\n",
    "initial_regions = [(make_default_polytope_at_point(s), colors_dict[i]) for i, s in enumerate(seed_points)]\n",
    "visualizer.add_group_of_regions_to_visualization(initial_regions, \"initial_regions\",\n",
    "                            wireframe = False,\n",
    "                           opacity = default_alpha)\n",
    "visualizer.show_res_q(q_star)"
   ]
  },
  {
   "cell_type": "markdown",
   "metadata": {},
   "source": [
    "## First we set up some options for our different certification modes"
   ]
  },
  {
   "cell_type": "code",
   "execution_count": null,
   "metadata": {},
   "outputs": [],
   "source": [
    "# set up the certifier and the options for different search techniques\n",
    "solver_options = SolverOptions()\n",
    "# set this to 1 if you would like to see the solver output in terminal.\n",
    "solver_options.SetOption(CommonSolverOption.kPrintToConsole, 0)\n",
    "\n",
    "# The options for when we search for new planes and positivity certificates given the polytopes\n",
    "find_separation_certificate_given_polytope_options = CspaceFreePolytope.FindSeparationCertificateGivenPolytopeOptions()\n",
    "find_separation_certificate_given_polytope_options.num_threads = -1\n",
    "find_separation_certificate_given_polytope_options.verbose = False\n",
    "find_separation_certificate_given_polytope_options.solver_options = solver_options\n",
    "find_separation_certificate_given_polytope_options.ignore_redundant_C = True\n",
    "\n",
    "# The options for when we search for a new polytope given positivity certificates.\n",
    "find_polytope_given_lagrangian_option = CspaceFreePolytope.FindPolytopeGivenLagrangianOptions()\n",
    "find_polytope_given_lagrangian_option.solver_options = solver_options\n",
    "find_polytope_given_lagrangian_option.ellipsoid_margin_cost = CspaceFreePolytope.EllipsoidMarginCost.kGeometricMean\n",
    "find_polytope_given_lagrangian_option.search_s_bounds_lagrangians = True\n",
    "\n",
    "bilinear_alternation_options = CspaceFreePolytope.BilinearAlternationOptions()\n",
    "bilinear_alternation_options.max_iter = 100\n",
    "bilinear_alternation_options.convergence_tol = 1e-4\n",
    "bilinear_alternation_options.find_polytope_options = find_polytope_given_lagrangian_option\n",
    "bilinear_alternation_options.find_lagrangian_options = find_separation_certificate_given_polytope_options\n",
    "\n",
    "binary_search_options = CspaceFreePolytope.BinarySearchOptions()\n",
    "binary_search_options.find_lagrangian_options = find_separation_certificate_given_polytope_options\n",
    "binary_search_options.scale_min = 1\n",
    "binary_search_options.scale_max = 50\n",
    "binary_search_options.max_iter = 50"
   ]
  },
  {
   "cell_type": "markdown",
   "metadata": {},
   "source": [
    "# Growing regions with bilinear alternations search\n",
    "\n",
    "### As the initial regions are fairly small, they won't contain collisions and so can be directly fed into the bilinear alternation algorithm."
   ]
  },
  {
   "cell_type": "code",
   "execution_count": null,
   "metadata": {},
   "outputs": [],
   "source": [
    "# We grow certified regions around each seedpoint using bilinear alternation.\n",
    "from time import perf_counter\n",
    "bilinear_alternation_results_by_seed_point = dict.fromkeys([tuple(s) for s in seed_points])\n",
    "times_per_region = []\n",
    "for i, (s, (initial_region, color)) in enumerate(zip(seed_points, initial_regions)):\n",
    "    print(f\"starting seedpoint {i+1}/{len(initial_regions)}\")\n",
    "    bilinear_alternation_options.find_polytope_options.s_inner_pts = s\n",
    "    t_start = time.perf_counter()\n",
    "    result = cspace_free_polytope.SearchWithBilinearAlternation(set(), initial_region.A(),\n",
    "                                                                initial_region.b(),\n",
    "                                                                bilinear_alternation_options)\n",
    "    t_end = time.perf_counter()\n",
    "    times_per_region.append(t_end - t_start)\n",
    "    bilinear_alternation_results_by_seed_point[tuple(s)] = [(cert.certified_polytope,\n",
    "                                                             cert, color) for cert in result]"
   ]
  },
  {
   "cell_type": "code",
   "execution_count": null,
   "metadata": {},
   "outputs": [],
   "source": [
    "# visualize the regions and corresponding certificates\n",
    "for i, result in enumerate(bilinear_alternation_results_by_seed_point.values()):\n",
    "    group_name = f\"/bil_alt/seed_point_{i}\"\n",
    "    visualizer.add_group_of_regions_and_certs_to_visualization(result, group_name, \n",
    "                                                               wireframe = False, opacity = 0.2)"
   ]
  },
  {
   "cell_type": "markdown",
   "metadata": {},
   "source": [
    "# Growing regions with binary search\n",
    "\n",
    "### While the bilinear alternation scheme has the flexibility to search for fairly flexible polytopes, it can be relatively slow. We can search for larger regions faster by uniformly growing our polytopes using binary search"
   ]
  },
  {
   "cell_type": "code",
   "execution_count": null,
   "metadata": {},
   "outputs": [],
   "source": [
    "# We grow certified regions around each seedpoint using binary search.\n",
    "binary_search_results_by_seed_point = dict.fromkeys([tuple(s) for s in seed_points])\n",
    "for i, (s, (initial_region, color)) in enumerate(zip(seed_points, initial_regions)):\n",
    "    print(f\"starting seedpoint {i+1}/{len(initial_regions)}\")\n",
    "    time.sleep(0.2)\n",
    "    cert = cspace_free_polytope.BinarySearch(set(),initial_region.A(),\n",
    "                                               initial_region.b(),s,binary_search_options)\n",
    "    binary_search_results_by_seed_point[tuple(s)] = [(cert.certified_polytope, cert, color)]\n",
    "                                                     \n"
   ]
  },
  {
   "cell_type": "code",
   "execution_count": null,
   "metadata": {},
   "outputs": [],
   "source": [
    "# visualize the regions and corresponding certificates\n",
    "for i, result in enumerate(binary_search_results_by_seed_point.values()):\n",
    "    group_name = f\"/bin_search/seed_point_{i}\"\n",
    "    visualizer.add_group_of_regions_and_certs_to_visualization(result, group_name, \n",
    "                                                               wireframe = False, opacity = 0.2)"
   ]
  },
  {
   "cell_type": "markdown",
   "metadata": {},
   "source": [
    "## Combining Binary Search and Bilinear Alternation\n",
    "### Of course, we can get the best of both worlds by combining the two methods"
   ]
  },
  {
   "cell_type": "code",
   "execution_count": null,
   "metadata": {},
   "outputs": [],
   "source": [
    "# we use this to back off a bit from the binary search results for numerical reasons\n",
    "def scale_polytope_about_point(hpoly, s, scale):\n",
    "    if not hpoly.PointInSet(s):\n",
    "        raise ValueError(f\"The point s must be in the HPolyhedron\")\n",
    "    b_scaled = scale * hpoly.b() + (1 - scale) * hpoly.A() @ s\n",
    "    return HPolyhedron(hpoly.A(), b_scaled)\n",
    "    "
   ]
  },
  {
   "cell_type": "code",
   "execution_count": null,
   "metadata": {},
   "outputs": [],
   "source": [
    "# Now we grow certified regions around each seedpoint using bilinear alternation \n",
    "# starting from the binary certified regions.\n",
    "\n",
    "binary_and_bilinear_certified_regions = binary_search_results_by_seed_point.copy()\n",
    "for i, (s, val) in enumerate(binary_and_bilinear_certified_regions.items()):\n",
    "    (initial_region, cert, color) = val[0]\n",
    "    print(f\"starting seedpoint {i+1}/{len(initial_regions)}\")\n",
    "    time.sleep(0.2)\n",
    "    cur_s = np.array(s)\n",
    "    bilinear_alternation_options.find_polytope_options.s_inner_pts = cur_s\n",
    "    \n",
    "    # We back off a little bit from the binary search solution so that we don't encounter numerical issues.\n",
    "    initial_region = scale_polytope_about_point(initial_region, cur_s, 0.90)\n",
    "    certificates = cspace_free_polytope.SearchWithBilinearAlternation(set(),\n",
    "                                                                      initial_region.A(),\n",
    "                                                                      initial_region.b(), \n",
    "                                                                      bilinear_alternation_options)\n",
    "    binary_and_bilinear_certified_regions[s] += [(result.certified_polytope, result, color) for result in certificates]"
   ]
  },
  {
   "cell_type": "code",
   "execution_count": null,
   "metadata": {},
   "outputs": [],
   "source": [
    "# visualize the regions and corresponding certificates\n",
    "for i, result in enumerate(binary_and_bilinear_certified_regions.values()):\n",
    "    group_name = f\"/bin_then_bil/seed_point_{i}/\"\n",
    "    visualizer.add_group_of_regions_and_certs_to_visualization(result, group_name, \n",
    "                                                               wireframe = False, opacity = 0.2,\n",
    "                                                               fill = False)\n",
    "    visualizer.add_group_of_regions_and_certs_to_visualization([result[-1]], group_name+\"/final\" , \n",
    "                                                               wireframe = False, opacity = 0.2,\n",
    "                                                               line_width = 1)"
   ]
  },
  {
   "cell_type": "markdown",
   "metadata": {},
   "source": [
    "## Seeding and Certifying with a Stronger Heuristic\n",
    "We have also implemented another, strong heuristic for proposing good initial regions based on non-linear optimization. See Appendix TODO of our paper TODO for details"
   ]
  },
  {
   "cell_type": "markdown",
   "metadata": {},
   "source": [
    "# Now it is time to play with the visualization! If you open the task space visualizer, we can highlight specific geometries and their separating planes in different regions.\n",
    "## Notice that when regions overlap, we get multiple planes certifying non-collision"
   ]
  },
  {
   "cell_type": "code",
   "execution_count": null,
   "metadata": {},
   "outputs": [],
   "source": [
    "for slider in sliders:\n",
    "    display(slider)"
   ]
  },
  {
   "cell_type": "code",
   "execution_count": null,
   "metadata": {},
   "outputs": [],
   "source": [
    "# Uncomment this cell for an interface for choosing good planes of interest\n",
    "# plane_indices = np.arange(0, len(cspace_free_polytope.separating_planes()))\n",
    "# last_plane_index = 0\n",
    "# cur_plane_index = 0\n",
    "# plane_indices_to_geometries = {v: k for k,v in cspace_free_polytope.map_geometries_to_separating_planes().items()}\n",
    "\n",
    "# while True:\n",
    "#     visualizer.meshcat_task_space.Delete(f\"/plane_{last_plane_index}\")\n",
    "#     geom1, geom2 = plane_indices_to_geometries[cur_plane_index]\n",
    "#     color = Rgba(0,0,1,1)\n",
    "    \n",
    "#     prefix = f\"/plane_{cur_plane_index}\"\n",
    "#     visualizer.highlight_geometry_id(geom1, color, prefix+f\"/{geom1}\")\n",
    "#     visualizer.highlight_geometry_id(geom2, color, prefix+f\"/{geom2}\")\n",
    "#     print(f\"current plane index = {cur_plane_index}\")\n",
    "    \n",
    "#     last_plane_index = cur_plane_index\n",
    "#     valid_key_pressed = False\n",
    "#     while not valid_key_pressed:\n",
    "#         key_press = input(\"Enter d to increase plane_count, a to decrease, and e to exit...\")\n",
    "#         if key_press in [\"a\", \"d\", \"e\"]:\n",
    "#             valid_key_pressed = True\n",
    "#     if key_press == \"a\":\n",
    "#         cur_plane_index = max(cur_plane_index - 1, min(plane_indices))\n",
    "#     elif key_press == \"d\":\n",
    "#         cur_plane_index = min(cur_plane_index + 1, max(plane_indices))\n",
    "#     elif key_press == \"e\":\n",
    "#         break\n",
    "#     print()"
   ]
  },
  {
   "cell_type": "code",
   "execution_count": null,
   "metadata": {},
   "outputs": [],
   "source": [
    "# Uncomment this cell for seeing all the planes associated to a particular geometry id\n",
    "# interesting_geometry = 65\n",
    "# plane_indices = np.arange(0, len(cspace_free_polytope.separating_planes()))\n",
    "# plane_indices_to_geometries = {v: k for k,v in cspace_free_polytope.map_geometries_to_separating_planes().items()}\n",
    "\n",
    "# associated_plane_indices = []\n",
    "# for plane_index, (geom1, geom2) in plane_indices_to_geometries.items():\n",
    "#     if interesting_geometry in (geom1.get_value(), geom2. get_value()):\n",
    "#         associated_plane_indices.append(plane_index)\n",
    "\n",
    "        \n",
    "# last_associated_index_index = 0\n",
    "# cur_associated_index_index = 0\n",
    "\n",
    "# visualizer.clear_plane_indices_of_interest()\n",
    "# while True:\n",
    "#     last_plane_index = associated_plane_indices[last_associated_index_index]\n",
    "#     cur_plane_index = associated_plane_indices[cur_associated_index_index]\n",
    "    \n",
    "#     print(f\"current plane index = {cur_plane_index}\")\n",
    "    \n",
    "#     visualizer.remove_plane_indices_of_interest(last_plane_index)\n",
    "#     visualizer.add_plane_indices_of_interest(cur_plane_index)\n",
    "    \n",
    "#     cur_q = visualizer.plant.GetPositions(visualizer.plant_context)\n",
    "#     visualizer.show_res_q(cur_q)\n",
    "    \n",
    "#     last_associated_index_index = cur_associated_index_index\n",
    "#     valid_key_pressed = False\n",
    "#     while not valid_key_pressed:\n",
    "#         key_press = input(\"Enter d to increase plane_count, a to decrease, and e to exit...\")\n",
    "#         if key_press in [\"a\", \"d\", \"e\"]:\n",
    "#             valid_key_pressed = True\n",
    "#     if key_press == \"a\":\n",
    "#         cur_associated_index_index = max(cur_associated_index_index - 1, min(associated_plane_indices))\n",
    "#     elif key_press == \"d\":\n",
    "#         cur_associated_index_index = min(cur_associated_index_index + 1, max(associated_plane_indices))\n",
    "#     elif key_press == \"e\":\n",
    "#         break\n",
    "#     print()"
   ]
  }
 ],
 "metadata": {
  "interpreter": {
   "hash": "31f2aee4e71d21fbe5cf8b01ff0e069b9275f58929596ceb00d14d90e3e16cd6"
  },
  "kernelspec": {
   "display_name": "Python 3",
   "language": "python",
   "name": "python3"
  },
  "language_info": {
   "codemirror_mode": {
    "name": "ipython",
    "version": 3
   },
   "file_extension": ".py",
   "mimetype": "text/x-python",
   "name": "python",
   "nbconvert_exporter": "python",
   "pygments_lexer": "ipython3",
   "version": "3.8.10"
  }
 },
 "nbformat": 4,
 "nbformat_minor": 2
}
