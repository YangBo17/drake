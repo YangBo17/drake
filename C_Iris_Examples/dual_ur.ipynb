{
 "cells": [
  {
   "cell_type": "markdown",
   "metadata": {
    "cell_id": "23720f1c95ca46e698451a5b1adcaf96",
    "deepnote_cell_type": "markdown",
    "tags": []
   },
   "source": [
    "# Dual UR Example\n",
    "\n",
    "In this notebook we give an example of a region certified for a 12-DOF dual, armed robot. The optimization program for this example is very large and cannot be run on the RAM available on Deepnote. Therefore, we provide a saved example region and demonstrate the range of postures achievable in this region.\n",
    "\n",
    "This notebook runs in a handful of seconds"
   ]
  },
  {
   "cell_type": "code",
   "execution_count": null,
   "metadata": {
    "cell_id": "e9efb8ff885343358d9b0aac2e141776",
    "deepnote_cell_type": "code",
    "deepnote_to_be_reexecuted": false,
    "execution_millis": 8,
    "execution_start": 1677083630091,
    "source_hash": "103ef91c"
   },
   "outputs": [],
   "source": [
    "%load_ext autoreload"
   ]
  },
  {
   "cell_type": "code",
   "execution_count": null,
   "metadata": {
    "cell_id": "5248ff6803264019b7ba98d7b7e5d2d1",
    "deepnote_cell_type": "code",
    "deepnote_to_be_reexecuted": false,
    "execution_millis": 430,
    "execution_start": 1677083630145,
    "source_hash": "6b300720"
   },
   "outputs": [],
   "source": [
    "import numpy as np\n",
    "from functools import partial\n",
    "import ipywidgets as widgets\n",
    "from IPython.display import display"
   ]
  },
  {
   "cell_type": "code",
   "execution_count": null,
   "metadata": {
    "cell_id": "232fe2c1e8a8403dbc189c4d2c9d75b5",
    "deepnote_cell_type": "code",
    "deepnote_to_be_reexecuted": false,
    "execution_millis": 2,
    "execution_start": 1677083630572,
    "source_hash": "618dd53e"
   },
   "outputs": [],
   "source": [
    "#pydrake imports\n",
    "from pydrake.all import RationalForwardKinematics\n",
    "from pydrake.geometry.optimization import IrisOptions, IrisInRationalConfigurationSpace, HPolyhedron, Hyperellipsoid\n",
    "from pydrake.solvers import MosekSolver, CommonSolverOption, SolverOptions\n",
    "from pydrake.all import PiecewisePolynomial\n",
    "import time\n"
   ]
  },
  {
   "cell_type": "code",
   "execution_count": null,
   "metadata": {
    "cell_id": "38cb451ed83d4971b05c35cb28535d46",
    "deepnote_cell_type": "code",
    "deepnote_to_be_reexecuted": false,
    "execution_millis": 0,
    "execution_start": 1677083630716,
    "source_hash": "5a510d9b"
   },
   "outputs": [],
   "source": [
    "from ur3e_demo import UrDiagram, SetDiffuse\n",
    "import ur3e_demo\n",
    "import visualization_utils as viz_utils"
   ]
  },
  {
   "cell_type": "markdown",
   "metadata": {
    "cell_id": "2d9807545e8b442abef1d43c8c380d7c",
    "deepnote_cell_type": "markdown"
   },
   "source": [
    "# Build and set up the visualization the plant\n",
    "\n",
    "Click on the link at the bottom to view a visualization of the plant."
   ]
  },
  {
   "cell_type": "code",
   "execution_count": null,
   "metadata": {
    "cell_id": "dc0a3b131136450b8307cbf7a503537c",
    "deepnote_cell_type": "code",
    "deepnote_to_be_reexecuted": false,
    "execution_millis": 1,
    "execution_start": 1677083630717,
    "source_hash": "130b4fca"
   },
   "outputs": [],
   "source": [
    "bilinear_alt_result_file = \"dual_ur3e_bil_alt_result.npz\"\n",
    "load_data = bilinear_alt_result_file\n",
    "weld_wrist = False\n",
    "with_gripper = True"
   ]
  },
  {
   "cell_type": "code",
   "execution_count": null,
   "metadata": {
    "cell_id": "3c101476cbf14fdf9120ed26d2af4fda",
    "deepnote_cell_type": "code",
    "deepnote_to_be_reexecuted": false,
    "execution_millis": 12,
    "execution_start": 1677083630718,
    "source_hash": "ecba5eda"
   },
   "outputs": [],
   "source": [
    "ur = UrDiagram(num_ur = 2, \n",
    "                weld_wrist = weld_wrist,\n",
    "                 add_shelf = False,\n",
    "                 add_gripper = with_gripper)\n",
    "diagram_context = ur.diagram.CreateDefaultContext()\n",
    "plant_context = ur.plant.GetMyMutableContextFromRoot(\n",
    "    diagram_context)\n",
    "scene_graph_context = ur.scene_graph.GetMyMutableContextFromRoot(\n",
    "    diagram_context)\n",
    "inspector = ur.scene_graph.model_inspector()\n"
   ]
  },
  {
   "cell_type": "markdown",
   "metadata": {
    "cell_id": "d85b4878443f4f2ba1d6c2ed45c88250",
    "deepnote_cell_type": "markdown",
    "tags": []
   },
   "source": [
    "## Since the program for the bimanual example is too large for the RAM provided on deepnote, we provide an example region to explore."
   ]
  },
  {
   "cell_type": "code",
   "execution_count": null,
   "metadata": {
    "cell_id": "eac66fc631db46bc89576e4e4c1e38cf",
    "deepnote_cell_type": "code",
    "deepnote_to_be_reexecuted": false,
    "execution_millis": 1,
    "execution_start": 1677083630725,
    "source_hash": "4398ed99"
   },
   "outputs": [],
   "source": [
    "load_file = \"dual_ur_regions/dual_ur_binary_search1.npz\""
   ]
  },
  {
   "cell_type": "code",
   "execution_count": null,
   "metadata": {
    "cell_id": "531886d7622e4a7e82212d254ec59982",
    "deepnote_cell_type": "code",
    "deepnote_to_be_reexecuted": false,
    "execution_millis": 9,
    "execution_start": 1677083630726,
    "source_hash": "8292bd1c"
   },
   "outputs": [],
   "source": [
    "load_data = np.load(load_file)\n",
    "C = load_data[\"C\"]\n",
    "d = load_data[\"d\"]\n",
    "\n",
    "rational_forward_kin = RationalForwardKinematics(ur.plant)\n",
    "q_star = np.zeros(ur.plant.num_positions())\n",
    "ur.plant.SetPositions(plant_context, q_star)\n",
    "ur.diagram.ForcedPublish(diagram_context)\n"
   ]
  },
  {
   "cell_type": "markdown",
   "metadata": {
    "cell_id": "252204e51d77475789f66ab174af4a61",
    "deepnote_cell_type": "markdown",
    "tags": []
   },
   "source": [
    "## We sample many postures to find both the minimum and the maximum distance between the two arms over the region."
   ]
  },
  {
   "cell_type": "code",
   "execution_count": null,
   "metadata": {
    "cell_id": "7c658b1891854c45beab8c4edf7db6d7",
    "deepnote_cell_type": "code",
    "deepnote_to_be_reexecuted": false,
    "execution_millis": 6983,
    "execution_start": 1677083630736,
    "source_hash": "6021be4"
   },
   "outputs": [],
   "source": [
    "save_posture_file = \"dual_ur_closest.npz\"\n",
    "ur3e_demo.sample_closest_posture(ur, rational_forward_kin, q_star,\n",
    "                       plant_context, C, d, save_posture_file)\n",
    "saved_posture_data = np.load(save_posture_file)"
   ]
  },
  {
   "cell_type": "markdown",
   "metadata": {
    "cell_id": "85e13c6b7e28491a9362857d8a163406",
    "deepnote_cell_type": "markdown",
    "tags": []
   },
   "source": [
    "## We visualize the closest sampled point that we found"
   ]
  },
  {
   "cell_type": "code",
   "execution_count": null,
   "metadata": {
    "cell_id": "8ec31c1251f5437d953c402e1d24a450",
    "deepnote_cell_type": "code",
    "deepnote_to_be_reexecuted": false,
    "execution_millis": 13,
    "execution_start": 1677083637721,
    "source_hash": "a96eb800",
    "tags": []
   },
   "outputs": [],
   "source": [
    "for i in range(2):\n",
    "    for body_index in ur.plant.GetBodyIndices(\n",
    "            ur.ur_instances[i]) + ur.plant.GetBodyIndices(\n",
    "                ur.gripper_instances[i]):\n",
    "        for body_geometry in inspector.GetGeometries(\n",
    "                ur.plant.GetBodyFrameIdOrThrow(body_index)):\n",
    "            if inspector.GetName(\n",
    "                    body_geometry) != saved_posture_data[\"min_pair\"][i]:\n",
    "                rgba = np.array([0.5, 0.5, 0.5, 1])\n",
    "            else:\n",
    "                rgba = np.array([1., 0, 0, 1])\n",
    "            SetDiffuse(ur.plant, ur.scene_graph,\n",
    "                        body_index, inspector.GetName(body_geometry), rgba,\n",
    "                        scene_graph_context)\n",
    "ur.plant.SetPositions(plant_context, saved_posture_data[\"min_q\"])\n",
    "ur.diagram.ForcedPublish(diagram_context)"
   ]
  },
  {
   "cell_type": "markdown",
   "metadata": {
    "cell_id": "d52d2822a22045b68dc2f4051551a0cd",
    "deepnote_cell_type": "markdown",
    "tags": []
   },
   "source": [
    "## Now we visualize the furthest sampled point in the region"
   ]
  },
  {
   "cell_type": "code",
   "execution_count": null,
   "metadata": {
    "cell_id": "a19b4ea36722415b9f83b5434dce9ad3",
    "deepnote_cell_type": "code",
    "deepnote_to_be_reexecuted": false,
    "execution_millis": 14,
    "execution_start": 1677083657550,
    "source_hash": "889b8fba",
    "tags": []
   },
   "outputs": [],
   "source": [
    "for i in range(2):\n",
    "    for body_index in ur.plant.GetBodyIndices(\n",
    "            ur.ur_instances[i]) + ur.plant.GetBodyIndices(\n",
    "                ur.gripper_instances[i]):\n",
    "        for body_geometry in inspector.GetGeometries(\n",
    "                ur.plant.GetBodyFrameIdOrThrow(body_index)):\n",
    "            if inspector.GetName(\n",
    "                    body_geometry) != saved_posture_data[\"max_pair\"][i]:\n",
    "                rgba = np.array([0.5, 0.5, 0.5, 1])\n",
    "            else:\n",
    "                rgba = np.array([1., 0, 0, 1])\n",
    "            SetDiffuse(ur.plant, ur.scene_graph,\n",
    "                        body_index, inspector.GetName(body_geometry), rgba,\n",
    "                        scene_graph_context)\n",
    "ur.plant.SetPositions(plant_context, saved_posture_data[\"max_q\"])\n",
    "ur.diagram.ForcedPublish(diagram_context)"
   ]
  },
  {
   "cell_type": "markdown",
   "metadata": {
    "cell_id": "6b37113c1c9045e3800f7a49790f407a",
    "deepnote_cell_type": "markdown",
    "tags": []
   },
   "source": [
    "## Finally, we walk around the generated polytope and highlight the closets collision pair on the two arms."
   ]
  },
  {
   "cell_type": "code",
   "execution_count": null,
   "metadata": {
    "cell_id": "3ac8a71f96cf4a9290f6a384a84e91c4",
    "deepnote_cell_type": "code",
    "deepnote_to_be_reexecuted": false,
    "execution_millis": 1,
    "execution_start": 1677083666644,
    "source_hash": "2448d19f",
    "tags": []
   },
   "outputs": [],
   "source": [
    "walk = viz_utils.generate_walk_around_polytope(HPolyhedron(C,d), 26)"
   ]
  },
  {
   "cell_type": "code",
   "execution_count": null,
   "metadata": {
    "cell_id": "4507c74f77434d86840696d0938be275",
    "deepnote_cell_type": "code",
    "deepnote_to_be_reexecuted": false,
    "execution_millis": 103563,
    "execution_start": 1677083667352,
    "source_hash": "13111342"
   },
   "outputs": [],
   "source": [
    "# Set robot link color. Hightlight the body with the closest distance.\n",
    "num_samples = 1000\n",
    "time_points = np.linspace(0, walk.end_time(), num_samples)\n",
    "for t in time_points:\n",
    "    s = walk.value(t)\n",
    "    q = rational_forward_kin.ComputeQValue(s, q_star)\n",
    "    pair, distance = ur3e_demo.named_closest_distance(ur, plant_context, q, inspector)\n",
    "    for i in range(2):\n",
    "        for body_index in ur.plant.GetBodyIndices(\n",
    "                ur.ur_instances[i]) + ur.plant.GetBodyIndices(\n",
    "                    ur.gripper_instances[i]):\n",
    "            for body_geometry in inspector.GetGeometries(\n",
    "                    ur.plant.GetBodyFrameIdOrThrow(body_index)):\n",
    "                if inspector.GetName(\n",
    "                        body_geometry) != inspector.GetName(pair[i]):#saved_posture_data[\"min_pair\"][i]:\n",
    "                    rgba = np.array([0.5, 0.5, 0.5, 1])\n",
    "                else:\n",
    "                    rgba = np.array([1., 0, 0, 1])\n",
    "                SetDiffuse(ur.plant, ur.scene_graph,\n",
    "                        body_index, inspector.GetName(body_geometry), rgba,\n",
    "                        scene_graph_context)\n",
    "    ur.plant.SetPositions(plant_context, q)\n",
    "    ur.diagram.ForcedPublish(diagram_context)\n",
    "    time.sleep(0.1)\n"
   ]
  },
  {
   "cell_type": "code",
   "execution_count": null,
   "metadata": {
    "cell_id": "fc977f71094d400eb16a3e25f1860bd4",
    "deepnote_cell_type": "code",
    "deepnote_to_be_reexecuted": true,
    "source_hash": "b623e53d",
    "tags": []
   },
   "outputs": [],
   "source": []
  },
  {
   "cell_type": "markdown",
   "metadata": {
    "created_in_deepnote_cell": true,
    "deepnote_cell_type": "markdown",
    "tags": []
   },
   "source": [
    "<a style='text-decoration:none;line-height:16px;display:flex;color:#5B5B62;padding:10px;justify-content:end;' href='https://deepnote.com?utm_source=created-in-deepnote-cell&projectId=7e82e4f5-f47a-475a-aad3-c88093ed36c6' target=\"_blank\">\n",
    "<img alt='Created in deepnote.com' style='display:inline;max-height:16px;margin:0px;margin-right:7.5px;' src='data:image/svg+xml;base64,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' > </img>\n",
    "Created in <span style='font-weight:600;margin-left:4px;'>Deepnote</span></a>"
   ]
  }
 ],
 "metadata": {
  "deepnote": {},
  "deepnote_execution_queue": [],
  "deepnote_notebook_id": "8fc84da71e494588bbc82350826b417a",
  "interpreter": {
   "hash": "31f2aee4e71d21fbe5cf8b01ff0e069b9275f58929596ceb00d14d90e3e16cd6"
  },
  "kernelspec": {
   "display_name": "Python 3 (ipykernel)",
   "language": "python",
   "name": "python3"
  },
  "language_info": {
   "codemirror_mode": {
    "name": "ipython",
    "version": 3
   },
   "file_extension": ".py",
   "mimetype": "text/x-python",
   "name": "python",
   "nbconvert_exporter": "python",
   "pygments_lexer": "ipython3",
   "version": "3.10.6"
  }
 },
 "nbformat": 4,
 "nbformat_minor": 1
}
