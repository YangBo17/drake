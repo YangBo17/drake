{
 "cells": [
  {
   "cell_type": "code",
   "execution_count": null,
   "metadata": {},
   "outputs": [],
   "source": [
    "%load_ext autoreload"
   ]
  },
  {
   "cell_type": "code",
   "execution_count": null,
   "metadata": {},
   "outputs": [],
   "source": [
    "import numpy as np\n",
    "from functools import partial\n",
    "import visualizations_utils as viz_utils\n",
    "from iris_plant_visualizer import IrisPlantVisualizer\n",
    "import ipywidgets as widgets\n",
    "from IPython.display import display\n",
    "from scipy.linalg import block_diag\n",
    "import matplotlib.pyplot as plt\n",
    "from pathlib import Path\n",
    "import os"
   ]
  },
  {
   "cell_type": "code",
   "execution_count": null,
   "metadata": {},
   "outputs": [],
   "source": [
    "#pydrake imports\n",
    "from pydrake.common import FindResourceOrThrow\n",
    "from pydrake.multibody.parsing import Parser\n",
    "from pydrake.multibody.plant import AddMultibodyPlantSceneGraph\n",
    "from pydrake.systems.framework import DiagramBuilder\n",
    "from pydrake.geometry import Role, GeometrySet, CollisionFilterDeclaration\n",
    "from pydrake.solvers import mathematicalprogram as mp\n",
    "from pydrake.all import RigidTransform, RollPitchYaw, RevoluteJoint\n",
    "from pydrake.all import RotationMatrix\n",
    "import pydrake.symbolic as sym\n",
    "import time\n",
    "from pydrake.all import CspaceFreeLine\n",
    "import pydrake.multibody.rational_forward_kinematics as rational_forward_kinematics\n",
    "from pydrake.all import VerificationOption\n",
    "\n",
    "from pydrake.all import RationalForwardKinematics\n",
    "from pydrake.geometry.optimization import IrisOptionsRationalSpace, IrisInRationalConfigurationSpace, HPolyhedron, Hyperellipsoid"
   ]
  },
  {
   "cell_type": "code",
   "execution_count": null,
   "metadata": {},
   "outputs": [],
   "source": [
    "import logging\n",
    "drake_logger = logging.getLogger(\"drake\")\n",
    "# drake_logger.setLevel(logging.DEBUG)"
   ]
  },
  {
   "cell_type": "markdown",
   "metadata": {},
   "source": [
    "# Build and set up the visualization the plant and the visualization of the C-space obstacle\n",
    "\n",
    "Note that running this cell multiple times will establish multiple meshcat instances which can fill up your memory. It is a good idea to call \"pkill -f meshcat\" from the command line before re-running this cell\n"
   ]
  },
  {
   "cell_type": "code",
   "execution_count": null,
   "metadata": {},
   "outputs": [],
   "source": [
    "builder = DiagramBuilder()\n",
    "plant, scene_graph = AddMultibodyPlantSceneGraph(builder, time_step=0.001)\n",
    "parser = Parser(plant)\n",
    "oneDOF_iiwa_asset = FindResourceOrThrow(\"drake/C_Iris_Examples/assets/oneDOF_iiwa7_with_box_collision.sdf\")\n",
    "\n",
    "box_asset = FindResourceOrThrow(\"drake/C_Iris_Examples/assets/box_small.urdf\")\n",
    "\n",
    "models = []\n",
    "models.append(parser.AddModelFromFile(box_asset))\n",
    "models.append(parser.AddModelFromFile(oneDOF_iiwa_asset, 'right_sweeper'))\n",
    "models.append(parser.AddModelFromFile(oneDOF_iiwa_asset, 'left_sweeper'))\n",
    "\n",
    "\n",
    "\n",
    "\n",
    "locs = [[0.,0.,0.],\n",
    "        [0,1,0.85],\n",
    "        [0,-1,0.55]]\n",
    "locs += np.array([0,0,-0.70])\n",
    "plant.WeldFrames(plant.world_frame(), \n",
    "                 plant.GetFrameByName(\"base\", models[0]),\n",
    "                 RigidTransform(locs[0]))\n",
    "\n",
    "t1 = RigidTransform(RollPitchYaw([np.pi/2, 0, 0]).ToRotationMatrix(), locs[1])@RigidTransform(RollPitchYaw([0, 0, np.pi/2]), np.zeros(3))\n",
    "t2 = RigidTransform(RollPitchYaw([-np.pi/2, 0, 0]).ToRotationMatrix(), locs[2])@RigidTransform(RollPitchYaw([0, 0, np.pi/2]), np.zeros(3))\n",
    "plant.WeldFrames(plant.world_frame(), \n",
    "                 plant.GetFrameByName(\"iiwa_oneDOF_link_0\", models[1]), \n",
    "                 t1)\n",
    "plant.WeldFrames(plant.world_frame(), \n",
    "                 plant.GetFrameByName(\"iiwa_oneDOF_link_0\", models[2]), \n",
    "                 t2)\n",
    "\n",
    "\n",
    "plant.Finalize()\n",
    "\n",
    "idx = 0\n",
    "q0 = [0.0, 0.0]\n",
    "# q_low  = [-1.7, -1.7, 0]\n",
    "# q_high = [1.7, 1.7,  0]\n",
    "eps = 0# 1e-3\n",
    "val = 1.7\n",
    "q_low  = [-val+eps, -val+eps, 0]\n",
    "q_high = [val-eps, val-eps,  0]\n",
    "# set the joint limits of the plant\n",
    "for model in models:\n",
    "    for joint_index in plant.GetJointIndices(model):\n",
    "        joint = plant.get_mutable_joint(joint_index)\n",
    "        if isinstance(joint, RevoluteJoint):\n",
    "            joint.set_default_angle(q0[idx])\n",
    "            joint.set_position_limits(lower_limits= np.array([q_low[idx]]), upper_limits= np.array([q_high[idx]]))\n",
    "            idx += 1\n",
    "        \n",
    "# construct the RationalForwardKinematics of this plant. This object handles the\n",
    "# computations for the forward kinematics in the tangent-configuration space\n",
    "Ratfk = RationalForwardKinematics(plant)\n",
    "\n",
    "# the point about which we will take the stereographic projections\n",
    "q_star = np.zeros(3)\n",
    "\n",
    "#compute limits in t-space\n",
    "limits_t = []\n",
    "for q in [q_low, q_high]:\n",
    "    print(q)\n",
    "    limits_t.append(Ratfk.ComputeTValue(np.array(q), q_star)[:2])\n",
    "\n",
    "do_viz = True\n",
    "\n",
    "# This line builds the visualization. Change the viz_role to Role.kIllustration if you\n",
    "# want to see the plant with its illustrated geometry or to Role.kProximity\n",
    "visualizer = IrisPlantVisualizer(plant, builder, scene_graph, viz_role=Role.kIllustration)\n",
    "diagram = visualizer.diagram\n",
    "\n",
    "# This line will run marching cubes to generate a mesh of the C-space obstacle\n",
    "# Increase N to increase the resolution of the C-space obstacle.\n"
   ]
  },
  {
   "cell_type": "code",
   "execution_count": null,
   "metadata": {},
   "outputs": [],
   "source": [
    "visualizer.visualize_collision_constraint2d(factor = 1.2, num_points = 100)"
   ]
  },
  {
   "cell_type": "code",
   "execution_count": null,
   "metadata": {},
   "outputs": [],
   "source": []
  },
  {
   "cell_type": "code",
   "execution_count": null,
   "metadata": {},
   "outputs": [],
   "source": [
    "visualizer.meshcat2.Set2dRenderMode(RigidTransform(RotationMatrix.MakeZRotation(0), np.array([0,0,1])))\n",
    "visualizer.meshcat1.Set2dRenderMode(RigidTransform(RotationMatrix.MakeZRotation(0), np.array([1,0,0])))"
   ]
  },
  {
   "cell_type": "code",
   "execution_count": null,
   "metadata": {},
   "outputs": [],
   "source": [
    "visualizer.meshcat2.Delete(\"/prm\")"
   ]
  },
  {
   "cell_type": "code",
   "execution_count": null,
   "metadata": {},
   "outputs": [],
   "source": [
    "# draw prm\n",
    "import prm\n",
    "from pydrake.all import Rgba\n",
    "\n",
    "# limits = [np.array(t_low), np.array(q_high)]\n",
    "\n",
    "visualizer.meshcat2.Delete(\"/prm\")\n",
    "\n",
    "def plot_prm(nodes, adjacency_list, width, color = Rgba(0.0, 0.0, 1, 1), prefix = \"\"):\n",
    "    plt_idx = 0\n",
    "    for node_idx in range(nodes.shape[0]):\n",
    "        pos1 = np.append(nodes[node_idx, :],0)\n",
    "        for edge_idx in range(len(adjacency_list[node_idx])): \n",
    "            pos2 = np.append(nodes[adjacency_list[node_idx][edge_idx], :],0)\n",
    "            name = f\"/{prefix}prm/rm/line{plt_idx}\"\n",
    "            visualizer.meshcat2.SetLine(name,  np.hstack([pos1[:,np.newaxis], pos2[:, np.newaxis]]),\n",
    "                                 line_width = width, rgba = color)\n",
    "            plt_idx +=1\n",
    "            \n",
    "plotting_fn_handle = partial(plot_prm, width = 0.01)\n",
    "\n",
    "def collision(pos, col_func_handle):\n",
    "    return col_func_handle(pos[0], pos[1])\n",
    "\n",
    "def collision_bad(pos, col_func_handle):\n",
    "    return 1-col_func_handle(pos[0], pos[1])\n",
    "\n",
    "prm_col_fn_handle = partial(collision, col_func_handle = visualizer.col_func_handle_rational)\n",
    "prm_col_fn_handle_bad = partial(collision_bad, col_func_handle = visualizer.col_func_handle_rational)\n",
    "\n",
    "\n",
    "num_points = 20 #1000\n",
    "\n",
    "PRM = prm.PRM( \n",
    "            limits_t,\n",
    "            num_points = num_points,\n",
    "            col_func_handle = prm_col_fn_handle,\n",
    "            num_neighbours = 5, \n",
    "            dist_thresh = .5,\n",
    "            num_col_checks = 10,\n",
    "            verbose = True,\n",
    "            plotcallback = plotting_fn_handle\n",
    "            )\n",
    "\n",
    "PRM_bad = prm.PRM( \n",
    "            limits_t,\n",
    "            num_points = num_points,\n",
    "            col_func_handle = prm_col_fn_handle_bad,\n",
    "            num_neighbours = 5, \n",
    "            dist_thresh = .5,\n",
    "            num_col_checks = 10,\n",
    "            verbose = True,\n",
    "            plotcallback = plotting_fn_handle\n",
    "            )\n",
    "\n",
    "# PRM.add_start_end(start, target)\n",
    "if num_points < 100:\n",
    "    PRM.plot()\n",
    "    PRM_bad.plot()\n",
    "tot_num_edges = len(PRM.adjacency_list)* len(PRM.adjacency_list[0])\n",
    "# path, sp_length = PRM.find_shortest_path()\n",
    "\n",
    "# mat = meshcat.geometry.MeshLambertMaterial(color= 0xFFF812 , wireframe=True)\n",
    "# mat.wireframeLinewidth = 2.0\n",
    "# num_waypoints = len(path)\n",
    "# for idx in range(num_waypoints-1):\n",
    "#     vis2['prm']['path']['path' + str(idx)].set_object( meshcat_line(path[idx], path[idx+1],width = 0.01), mat)\n",
    "# traj= utils.PWLinTraj(path, 5.0)"
   ]
  },
  {
   "cell_type": "markdown",
   "metadata": {},
   "source": [
    "## Set up the sliders so we can move the plant around manually"
   ]
  },
  {
   "cell_type": "code",
   "execution_count": null,
   "metadata": {
    "scrolled": false
   },
   "outputs": [],
   "source": [
    "sliders = []\n",
    "sliders.append(widgets.FloatSlider(min=q_low[0], max=q_high[0], value=0, description='q0'))\n",
    "sliders.append(widgets.FloatSlider(min=q_low[1], max=q_high[1], value=0, description='q1'))\n",
    "# sliders.append(widgets.FloatSlider(min=q_low[2], max=q_high[2], value=0, description='q2'))\n",
    "\n",
    "q = q0.copy()\n",
    "def handle_slider_change(change, idx):\n",
    "    q[idx] = change['new']\n",
    "    visualizer.showres(q)\n",
    "    visualizer.visualize_planes()\n",
    "    \n",
    "idx = 0\n",
    "for slider in sliders:\n",
    "    slider.observe(partial(handle_slider_change, idx = idx), names='value')\n",
    "    idx+=1\n",
    "\n",
    "for slider in sliders:\n",
    "    display(slider)\n",
    "\n",
    "\n",
    "# visualizer.jupyter_cell()"
   ]
  },
  {
   "cell_type": "code",
   "execution_count": null,
   "metadata": {
    "scrolled": true
   },
   "outputs": [],
   "source": [
    "# filter fused joints self collisions so they don't interfere with collision engine\n",
    "digaram = visualizer.diagram\n",
    "context = visualizer.diagram_context\n",
    "sg_context = scene_graph.GetMyContextFromRoot(context)\n",
    "inspector = scene_graph.model_inspector()\n",
    "\n",
    "pairs = scene_graph.get_query_output_port().Eval(sg_context).inspector().GetCollisionCandidates()\n",
    "\n",
    "gids = [gid for gid in inspector.GetGeometryIds(GeometrySet(inspector.GetAllGeometryIds()), Role.kProximity)]\n",
    "get_name_of_gid = lambda gid : inspector.GetName(gid)\n",
    "gids.sort(key=get_name_of_gid)\n",
    "right_sweeper_gids = [gid for gid in gids if \"right_sweeper::\" in get_name_of_gid(gid)]\n",
    "left_sweeper_gids = [gid for gid in gids if \"left_sweeper::\" in get_name_of_gid(gid)]\n",
    "\n",
    "right_sweeper_fused_col_geom = right_sweeper_gids[2:]\n",
    "right_sweeper_fused_set = GeometrySet(right_sweeper_fused_col_geom)\n",
    "left_sweeper_fused_col_geom = left_sweeper_gids[4:]\n",
    "left_sweeper_fused_set = GeometrySet(left_sweeper_fused_col_geom)\n",
    "scene_graph.collision_filter_manager()\\\n",
    "            .Apply(CollisionFilterDeclaration().ExcludeWithin(right_sweeper_fused_set))\n",
    "scene_graph.collision_filter_manager()\\\n",
    "            .Apply(CollisionFilterDeclaration().ExcludeWithin(left_sweeper_fused_set))\n",
    "\n",
    "right_sweeper_end_gid = right_sweeper_gids[-1]\n",
    "left_sweeper_end_gid = left_sweeper_gids[-1]\n",
    "id_pairs_of_interest = [(right_sweeper_end_gid, left_sweeper_end_gid),\n",
    "                       ]\n",
    "visualizer.collision_pairs_of_interest = id_pairs_of_interest\n"
   ]
  },
  {
   "cell_type": "code",
   "execution_count": null,
   "metadata": {},
   "outputs": [],
   "source": [
    "t0 = time.time()\n",
    "line_certifier = CspaceFreeLine(diagram, plant, scene_graph,\n",
    "                                rational_forward_kinematics.SeparatingPlaneOrder.kAffine, np.zeros(2),\n",
    "                                set(), VerificationOption()\n",
    "                               )\n",
    "t1 = time.time()\n",
    "print(f\"Time to construct line certifier = {t1-t0}s\")"
   ]
  },
  {
   "cell_type": "code",
   "execution_count": null,
   "metadata": {},
   "outputs": [],
   "source": [
    "def make_prm_line_pairs(PRM):\n",
    "    endpoint_index_set = set()\n",
    "    for neighbors in PRM.adjacency_list:\n",
    "        for n in neighbors[1:]:\n",
    "            endpoint_index_set.add((neighbors[0], n))\n",
    "    s0 = np.zeros((len(endpoint_index_set), plant.num_positions()))\n",
    "    s1 = np.zeros((len(endpoint_index_set), plant.num_positions()))\n",
    "    for i, (idx0, idx1) in enumerate(endpoint_index_set):\n",
    "        s0[i] = PRM.nodes[idx0]\n",
    "        s1[i] = PRM.nodes[idx1]\n",
    "    return s0, s1\n",
    "s0_mat_safe, s1_mat_safe = make_prm_line_pairs(PRM)\n",
    "s0_mat_unsafe, s1_mat_unsafe = make_prm_line_pairs(PRM_bad)\n",
    "print(s0_mat_safe.shape)\n",
    "print(s0_mat_unsafe.shape)"
   ]
  },
  {
   "cell_type": "code",
   "execution_count": null,
   "metadata": {},
   "outputs": [],
   "source": [
    "def count_num_safe(safe_points_vect):\n",
    "    num_safe = 0\n",
    "    for val in safe_points_vect:\n",
    "        if(val):\n",
    "            num_safe += 1\n",
    "    return num_safe"
   ]
  },
  {
   "cell_type": "code",
   "execution_count": null,
   "metadata": {},
   "outputs": [],
   "source": [
    "def make_certifier_and_certify(use_affine = True):\n",
    "    t0 = time.time()\n",
    "    plane_type = rational_forward_kinematics.SeparatingPlaneOrder.kAffine if use_affine \\\n",
    "                    else rational_forward_kinematics.SeparatingPlaneOrder.kConstant\n",
    "    line_certifier = CspaceFreeLine(diagram, plant, scene_graph,\n",
    "                                    plane_type, \n",
    "                                    np.zeros(2),\n",
    "                                    set(), VerificationOption()\n",
    "                                   )\n",
    "    t1 = time.time()\n",
    "    print(f\"Time to construct line certifier = {t1-t0}s\")\n",
    "    \n",
    "    t0 = time.time()\n",
    "    safe_points, planes = line_certifier.CertifyTangentConfigurationSpaceLines(s0_mat_safe, s1_mat_safe)\n",
    "    t1 = time.time()\n",
    "    print(f\"Certification of safe PRM in {t1-t0}s\")\n",
    "    num_safe1 = count_num_safe(safe_points)\n",
    "    print(f\"Certified {num_safe1}/{len(safe_points)} as safe\")\n",
    "    print(f\"Failed to certify {len(safe_points)-num_safe1}/{len(safe_points)} safe points as safe\")\n",
    "    \n",
    "    t0 = time.time()\n",
    "    unsafe_points, unsafe_planes = line_certifier.CertifyTangentConfigurationSpaceLines(s0_mat_unsafe, s1_mat_unsafe)\n",
    "    t1 = time.time()\n",
    "    print(f\"Certification of unsafe PRM in {t1-t0}s\")\n",
    "    num_safe2 = count_num_safe(safe_points)\n",
    "    print(f\"Incorrectly certified {num_safe2}/{len(safe_points)} as safe\")\n",
    "    print(f\"Classified {len(safe_points)-num_safe2}/{len(safe_points)} unsafe points as unsafe\")\n",
    "    return (safe_points, planes, num_safe1), (unsafe_points, unsafe_planes, num_safe2)"
   ]
  },
  {
   "cell_type": "code",
   "execution_count": null,
   "metadata": {},
   "outputs": [],
   "source": []
  },
  {
   "cell_type": "code",
   "execution_count": null,
   "metadata": {},
   "outputs": [],
   "source": [
    "ret_safe_affine, ret_unsafe_affine = make_certifier_and_certify(use_affine = True)"
   ]
  }
 ],
 "metadata": {
  "interpreter": {
   "hash": "31f2aee4e71d21fbe5cf8b01ff0e069b9275f58929596ceb00d14d90e3e16cd6"
  },
  "kernelspec": {
   "display_name": "Python 3 (ipykernel)",
   "language": "python",
   "name": "python3"
  },
  "language_info": {
   "codemirror_mode": {
    "name": "ipython",
    "version": 3
   },
   "file_extension": ".py",
   "mimetype": "text/x-python",
   "name": "python",
   "nbconvert_exporter": "python",
   "pygments_lexer": "ipython3",
   "version": "3.10.4"
  }
 },
 "nbformat": 4,
 "nbformat_minor": 2
}
