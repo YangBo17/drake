{
 "cells": [
  {
   "cell_type": "markdown",
   "metadata": {
    "cell_id": "44c025787bd54b319ff324e441d20f14",
    "deepnote_cell_type": "markdown",
    "tags": []
   },
   "source": [
    "# 2DOF Example Region Growth Visualization\n",
    "\n",
    "In this notebook, we construct a 2DOF plant where we can visualize both the task and configuration space. Initial regions are generated using a heuristic which are then certified. We demonstrate various methods for proposing and growing regions using the bilinear alternation proposed in \"Certified Polyhedral Decompositions of Collision-Free Configuration Space\"\n",
    "\n",
    "**Please copy a Mosek License to mosek.lic to run this** Failure to do so will result in the Scs solver being called which is too inaccurate for many of these problem.\n",
    "\n",
    "Notebook runtime: less than 15 minutes"
   ]
  },
  {
   "cell_type": "code",
   "execution_count": null,
   "metadata": {
    "cell_id": "19b12926a3cf4ed79e9f260da2866c80",
    "deepnote_cell_type": "code",
    "deepnote_to_be_reexecuted": false,
    "execution_millis": 7,
    "execution_start": 1677104711792,
    "source_hash": "103ef91c"
   },
   "outputs": [],
   "source": [
    "%load_ext autoreload"
   ]
  },
  {
   "cell_type": "code",
   "execution_count": null,
   "metadata": {
    "cell_id": "b097720e531244f782b1d978b71ba457",
    "deepnote_cell_type": "code",
    "deepnote_to_be_reexecuted": false,
    "execution_millis": 515,
    "execution_start": 1677104711793,
    "source_hash": "c8cc6cd5"
   },
   "outputs": [],
   "source": [
    "import numpy as np\n",
    "from functools import partial\n",
    "import os\n",
    "from iris_plant_visualizer import IrisPlantVisualizer\n",
    "import ipywidgets as widgets\n",
    "from IPython.display import display\n",
    "from scipy.linalg import block_diag"
   ]
  },
  {
   "cell_type": "code",
   "execution_count": null,
   "metadata": {
    "cell_id": "ec148ae7c09c46f5800b3e08a001144f",
    "deepnote_cell_type": "code",
    "deepnote_to_be_reexecuted": false,
    "execution_millis": 48,
    "execution_start": 1677104712300,
    "source_hash": "f81c6748"
   },
   "outputs": [],
   "source": [
    "#pydrake imports\n",
    "from pydrake.common import FindResourceOrThrow\n",
    "from pydrake.multibody.parsing import Parser\n",
    "from pydrake.multibody.plant import AddMultibodyPlantSceneGraph\n",
    "from pydrake.systems.framework import DiagramBuilder\n",
    "from pydrake.geometry import Role, GeometrySet, CollisionFilterDeclaration\n",
    "from pydrake.all import RigidTransform, RollPitchYaw, RevoluteJoint\n",
    "from pydrake.all import RotationMatrix, Rgba\n",
    "import time\n",
    "import pydrake.multibody.rational as rational_forward_kinematics\n",
    "from pydrake.all import RationalForwardKinematics\n",
    "from pydrake.geometry.optimization import IrisOptions, IrisInRationalConfigurationSpace, HPolyhedron, Hyperellipsoid\n",
    "from pydrake.solvers import MosekSolver, CommonSolverOption, SolverOptions, ScsSolver"
   ]
  },
  {
   "cell_type": "code",
   "execution_count": null,
   "metadata": {
    "cell_id": "85feda1aec9f491c8d0b262a2576a0db",
    "deepnote_cell_type": "code",
    "deepnote_to_be_reexecuted": false,
    "execution_millis": 2,
    "execution_start": 1677104714266,
    "source_hash": "6402e045"
   },
   "outputs": [],
   "source": [
    "from pydrake.geometry.optimization_dev import (CspaceFreePolytope, \n",
    "                                               SeparatingPlaneOrder)"
   ]
  },
  {
   "cell_type": "markdown",
   "metadata": {
    "cell_id": "4b084738e5804c24948c869d90d3fbfa",
    "deepnote_cell_type": "markdown"
   },
   "source": [
    "# Build and set up the visualization the plant and the visualization of the C-space obstacle\n",
    "\n",
    "We first set up a simple 2-DOF system and visualize both the plant and the configuration constraint. Click on the two links at the bottom to view the plant and the configuration space.\n",
    "\n"
   ]
  },
  {
   "cell_type": "code",
   "execution_count": null,
   "metadata": {
    "cell_id": "04c9f65f07c1451981c75535e89c0747",
    "deepnote_cell_type": "code",
    "deepnote_to_be_reexecuted": false,
    "execution_millis": 1174,
    "execution_start": 1677104714958,
    "source_hash": "8e8a5d72"
   },
   "outputs": [],
   "source": [
    "#construct our robot\n",
    "builder = DiagramBuilder()\n",
    "plant, scene_graph = AddMultibodyPlantSceneGraph(builder, time_step=0.001)\n",
    "parser = Parser(plant)\n",
    "oneDOF_iiwa_file = \"assets/oneDOF_iiwa7_with_box_collision.sdf\"\n",
    "with open(oneDOF_iiwa_file, 'r') as f:\n",
    "    oneDOF_iiwa_string = f.read()\n",
    "box_asset_file = \"assets/box_small.urdf\"\n",
    "with open(box_asset_file, 'r') as f:\n",
    "    box_asset_string = f.read()\n",
    "\n",
    "models = []\n",
    "models.append(parser.AddModelFromFile(box_asset_file))\n",
    "models.append(parser.AddModelFromFile(oneDOF_iiwa_file, 'right_sweeper'))\n",
    "models.append(parser.AddModelFromFile(oneDOF_iiwa_file,  'left_sweeper'))\n",
    "\n",
    "locs = [[0.,0.,0.],\n",
    "        [0,1,0.85],\n",
    "        [0,-1,0.55]]\n",
    "plant.WeldFrames(plant.world_frame(), \n",
    "                 plant.GetFrameByName(\"base\", models[0]),\n",
    "                 RigidTransform(locs[0]))\n",
    "\n",
    "t1 = RigidTransform(RollPitchYaw([np.pi/2, 0, 0]).ToRotationMatrix(), locs[1])@RigidTransform(RollPitchYaw([0, 0, np.pi/2]), np.zeros(3))\n",
    "t2 = RigidTransform(RollPitchYaw([-np.pi/2, 0, 0]).ToRotationMatrix(), locs[2])@RigidTransform(RollPitchYaw([0, 0, np.pi/2]), np.zeros(3))\n",
    "plant.WeldFrames(plant.world_frame(), \n",
    "                 plant.GetFrameByName(\"iiwa_oneDOF_link_0\", models[1]), \n",
    "                 t1)\n",
    "plant.WeldFrames(plant.world_frame(), \n",
    "                 plant.GetFrameByName(\"iiwa_oneDOF_link_0\", models[2]), \n",
    "                 t2)\n",
    "\n",
    "\n",
    "plant.Finalize()\n",
    "idx = 0\n",
    "q0 = [0.0, 0.0]\n",
    "val = 1.7\n",
    "q_low  = np.array([-val, -val])\n",
    "q_high = np.array([val, val])\n",
    "# set the joint limits of the plant\n",
    "for model in models:\n",
    "    for joint_index in plant.GetJointIndices(model):\n",
    "        joint = plant.get_mutable_joint(joint_index)\n",
    "        if isinstance(joint, RevoluteJoint):\n",
    "            joint.set_default_angle(q0[idx])\n",
    "            joint.set_position_limits(lower_limits= np.array([q_low[idx]]), upper_limits= np.array([q_high[idx]]))\n",
    "            idx += 1\n",
    "        \n",
    "# construct the RationalForwardKinematics of this plant. This object handles the\n",
    "# computations for the forward kinematics in the tangent-configuration space\n",
    "Ratfk = RationalForwardKinematics(plant)\n",
    "\n",
    "# the point about which we will take the stereographic projections\n",
    "q_star = np.zeros(plant.num_positions())\n",
    "\n",
    "do_viz = True\n",
    "\n",
    "# The object we will use to perform our certification.\n",
    "cspace_free_polytope = CspaceFreePolytope(plant, scene_graph, SeparatingPlaneOrder.kAffine, q_star)\n",
    "\n",
    "# This line builds the visualization. Change the viz_role to Role.kIllustration if you\n",
    "# want to see the plant with its illustrated geometry or to Role.kProximity if you want\n",
    "# to see the plant with the collision geometries.\n",
    "visualizer = IrisPlantVisualizer(plant, builder, scene_graph, cspace_free_polytope, viz_role=Role.kIllustration)\n",
    "visualizer.visualize_collision_constraint(factor = 1.2, num_points = 100)\n",
    "visualizer.meshcat_cspace.Set2dRenderMode(RigidTransform(RotationMatrix.MakeZRotation(0), np.array([0,0,1])))\n",
    "visualizer.meshcat_task_space.Set2dRenderMode(RigidTransform(RotationMatrix.MakeZRotation(0), np.array([1,0,0])))"
   ]
  },
  {
   "cell_type": "markdown",
   "metadata": {
    "cell_id": "7fc8ae22daf9496f9b9235c9935428b9",
    "deepnote_cell_type": "markdown"
   },
   "source": [
    "## Set up the sliders so we can move the plant around manually\n",
    "\n",
    "You can use the sliders below to move the two degrees of freedom of the plant around. A green dot will appear in the TC-space visualization describing the current TC-space configuration."
   ]
  },
  {
   "cell_type": "code",
   "execution_count": null,
   "metadata": {
    "cell_id": "913a2eebe15849ddbe88a9eb17d74e57",
    "deepnote_cell_type": "code",
    "deepnote_to_be_reexecuted": false,
    "execution_millis": 6,
    "execution_start": 1677104716817,
    "scrolled": false,
    "source_hash": "40fa0e1b"
   },
   "outputs": [],
   "source": [
    "sliders = []\n",
    "sliders.append(widgets.FloatSlider(min=q_low[0], max=q_high[0], value=0, description='q0'))\n",
    "sliders.append(widgets.FloatSlider(min=q_low[1], max=q_high[1], value=0, description='q1'))\n",
    "\n",
    "q = q0.copy()\n",
    "def handle_slider_change(change, idx):\n",
    "    q[idx] = change['new']\n",
    "    visualizer.show_res_q(q)\n",
    "    \n",
    "idx = 0\n",
    "for slider in sliders:\n",
    "    slider.observe(partial(handle_slider_change, idx = idx), names='value')\n",
    "    idx+=1\n",
    "\n",
    "for slider in sliders:\n",
    "    display(slider)\n"
   ]
  },
  {
   "cell_type": "markdown",
   "metadata": {
    "cell_id": "73500b7f053e4bcf96f67611705d03f3",
    "deepnote_cell_type": "markdown"
   },
   "source": [
    "# Generate and Certify Regions\n",
    "\n",
    "Around some nominal seed postures, we will grow certified regions by seeding our alternation algorithm using a small initial polytope."
   ]
  },
  {
   "cell_type": "code",
   "execution_count": null,
   "metadata": {
    "cell_id": "72bd299839204bbc85c4de1bc6f9acf2",
    "deepnote_cell_type": "code",
    "deepnote_to_be_reexecuted": false,
    "execution_millis": 4017,
    "execution_start": 1677104744401,
    "source_hash": "a8304958"
   },
   "outputs": [],
   "source": [
    "# Some seedpoints\n",
    "seed_points_q = np.array([   \n",
    "                              [0.0, 0],\n",
    "                              [0.7, -0.9],\n",
    "                              [-0.5, -0.5],\n",
    "                              [0.5,-1.08],\n",
    "                              [-1.06, 0.48]\n",
    "                              ])\n",
    "\n",
    "seed_points = np.array([Ratfk.ComputeSValue(seed_points_q[idx], np.zeros((2,)))\\\n",
    "                        for idx in range(seed_points_q.shape[0])])\n",
    "start = seed_points[0]\n",
    "end = seed_points[-1]\n",
    "\n",
    "visualizer.plot_cspace_points(seed_points, \"/iris_seed_points\", radius = 0.02)\n",
    "    \n",
    "\n",
    "\n",
    "default_scale = 1e-2\n",
    "L1_ball = HPolyhedron.MakeL1Ball(2)\n",
    "Linf_ball = HPolyhedron.MakeBox(-np.ones(2), np.ones(2))\n",
    "\n",
    "template_C = np.vstack([L1_ball.A(), Linf_ball.A()])\n",
    "template_d = np.hstack([default_scale*L1_ball.b(), default_scale/np.sqrt(2)*Linf_ball.b()])\n",
    "\n",
    "\n",
    "def make_default_polytope_at_point(seed_point):\n",
    "    return HPolyhedron(template_C, template_d + template_C @ seed_point)\n",
    "\n",
    "\n",
    "# colors to plot the region.\n",
    "default_alpha = 0.2\n",
    "colors_dict = {\n",
    "    0: Rgba(0.565, 0.565, 0.565, default_alpha), # gray\n",
    "    1: Rgba(0.118, 0.533, 0.898, default_alpha), # bluish\n",
    "    2: Rgba(1,     0.757, 0.027, default_alpha), # gold\n",
    "    3: Rgba(0,     0.549, 0.024, default_alpha), # green   \n",
    "    4: Rgba(0.055, 0.914, 0.929, default_alpha), # teal \n",
    "}\n",
    "\n",
    "initial_regions = [(make_default_polytope_at_point(s), colors_dict[i]) for i, s in enumerate(seed_points)]\n",
    "visualizer.add_group_of_regions_to_visualization(initial_regions, \"initial_regions\",\n",
    "                            wireframe = False,\n",
    "                           opacity = default_alpha)\n",
    "visualizer.show_res_q(q_star)"
   ]
  },
  {
   "cell_type": "markdown",
   "metadata": {
    "cell_id": "1d1b95353c8d4107a572d70931ab8c50",
    "deepnote_cell_type": "markdown"
   },
   "source": [
    "## First we set up some options for our different certification modes\n",
    "\n",
    "It is **very** important that you upload a MOSEK license into the file `mosek.lic` in order to run the rest of the notebook. If you do not, the solver `SCS` will be used which is much slower and likely will be too inaccurate to solve many of the problems."
   ]
  },
  {
   "cell_type": "code",
   "execution_count": null,
   "metadata": {
    "cell_id": "335f40e7098b41919310a40877df3772",
    "deepnote_cell_type": "code",
    "deepnote_to_be_reexecuted": false,
    "execution_millis": 4,
    "execution_start": 1677094171674,
    "source_hash": "4a068509"
   },
   "outputs": [],
   "source": [
    "# set up the certifier and the options for different search techniques\n",
    "solver_options = SolverOptions()\n",
    "# set this to 1 if you would like to see the solver output in terminal.\n",
    "solver_options.SetOption(CommonSolverOption.kPrintToConsole, 0)\n",
    "\n",
    "\n",
    "\n",
    "solver_id = MosekSolver.id() if MosekSolver().available() else ScsSolver.id()\n",
    "\n",
    "# The options for when we search for new planes and positivity certificates given the polytopes\n",
    "find_separation_certificate_given_polytope_options = CspaceFreePolytope.FindSeparationCertificateGivenPolytopeOptions()\n",
    "find_separation_certificate_given_polytope_options.num_threads = -1\n",
    "find_separation_certificate_given_polytope_options.verbose = False\n",
    "find_separation_certificate_given_polytope_options.solver_options = solver_options\n",
    "find_separation_certificate_given_polytope_options.ignore_redundant_C = False\n",
    "find_separation_certificate_given_polytope_options.solver_id = solver_id\n",
    "\n",
    "# The options for when we search for a new polytope given positivity certificates.\n",
    "find_polytope_given_lagrangian_option = CspaceFreePolytope.FindPolytopeGivenLagrangianOptions()\n",
    "find_polytope_given_lagrangian_option.solver_options = solver_options\n",
    "find_polytope_given_lagrangian_option.ellipsoid_margin_cost = CspaceFreePolytope.EllipsoidMarginCost.kGeometricMean\n",
    "find_polytope_given_lagrangian_option.search_s_bounds_lagrangians = True\n",
    "find_polytope_given_lagrangian_option.ellipsoid_margin_epsilon = 1e-8\n",
    "find_polytope_given_lagrangian_option.solver_id = solver_id\n",
    "\n",
    "bilinear_alternation_options = CspaceFreePolytope.BilinearAlternationOptions()\n",
    "bilinear_alternation_options.max_iter = 5 # Setting this to a high number will lead to more fill\n",
    "bilinear_alternation_options.convergence_tol = 1e-3\n",
    "bilinear_alternation_options.find_polytope_options = find_polytope_given_lagrangian_option\n",
    "bilinear_alternation_options.find_lagrangian_options = find_separation_certificate_given_polytope_options\n",
    "\n",
    "binary_search_options = CspaceFreePolytope.BinarySearchOptions()\n",
    "binary_search_options.find_lagrangian_options = find_separation_certificate_given_polytope_options\n",
    "binary_search_options.scale_min = 1\n",
    "binary_search_options.scale_max = 50\n",
    "binary_search_options.max_iter = 100"
   ]
  },
  {
   "cell_type": "markdown",
   "metadata": {
    "cell_id": "8f577ebab38a4d2188f8dd912296c9a1",
    "deepnote_cell_type": "markdown"
   },
   "source": [
    "# Growing regions with bilinear alternations search\n",
    "\n",
    "### As the initial regions are fairly small, they won't contain collisions and so can be directly fed into the bilinear alternation algorithm."
   ]
  },
  {
   "cell_type": "code",
   "execution_count": null,
   "metadata": {
    "cell_id": "df6b68e318ea4f2791a68f3452f0b48b",
    "deepnote_cell_type": "code",
    "deepnote_to_be_reexecuted": false,
    "execution_millis": 132680,
    "execution_start": 1677094171681,
    "source_hash": "89b9145f"
   },
   "outputs": [],
   "source": [
    "# We grow certified regions around each seedpoint using bilinear alternation.\n",
    "from time import perf_counter\n",
    "bilinear_alternation_results_by_seed_point = dict.fromkeys([tuple(s) for s in seed_points])\n",
    "times_per_region = []\n",
    "for i, (s, (initial_region, color)) in enumerate(zip(seed_points, initial_regions)):\n",
    "    print(f\"starting seedpoint {i+1}/{len(initial_regions)}\")\n",
    "    bilinear_alternation_options.find_polytope_options.s_inner_pts = s\n",
    "    t_start = time.perf_counter()\n",
    "    result = cspace_free_polytope.SearchWithBilinearAlternation(set(), initial_region.A(),\n",
    "                                                                initial_region.b(),\n",
    "                                                                bilinear_alternation_options)\n",
    "    t_end = time.perf_counter()\n",
    "    times_per_region.append(t_end - t_start)\n",
    "    bilinear_alternation_results_by_seed_point[tuple(s)] = [(cert.certified_polytope,\n",
    "                                                             cert, color) for cert in result]\n",
    "\n"
   ]
  },
  {
   "cell_type": "code",
   "execution_count": null,
   "metadata": {
    "cell_id": "4750101afa5543f1b3cd830278ef18aa",
    "deepnote_cell_type": "code",
    "deepnote_to_be_reexecuted": false,
    "execution_millis": 20983,
    "execution_start": 1677094304402,
    "source_hash": "5e10dfb4"
   },
   "outputs": [],
   "source": [
    "# visualize the regions and corresponding certificates\n",
    "for i, result in enumerate(bilinear_alternation_results_by_seed_point.values()):\n",
    "    group_name = f\"/bil_alt/seed_point_{i}\"\n",
    "    visualizer.add_group_of_regions_and_certs_to_visualization(result, group_name, \n",
    "                                                               wireframe = False, opacity = 0.2)"
   ]
  },
  {
   "cell_type": "markdown",
   "metadata": {
    "cell_id": "f6a0872bf7614f31a0198716158ac269",
    "deepnote_cell_type": "markdown"
   },
   "source": [
    "# Growing regions with binary search\n",
    "\n",
    "### While the bilinear alternation scheme has the flexibility to search for fairly flexible polytopes, it can be relatively slow. We can search for larger regions faster by uniformly growing our polytopes using binary search"
   ]
  },
  {
   "cell_type": "code",
   "execution_count": null,
   "metadata": {
    "cell_id": "c0b3c9ae37574f589cc9175b051ccac5",
    "deepnote_cell_type": "code",
    "deepnote_to_be_reexecuted": false,
    "execution_millis": 46149,
    "execution_start": 1677094325428,
    "source_hash": "33918161"
   },
   "outputs": [],
   "source": [
    "# We grow certified regions around each seedpoint using binary search.\n",
    "binary_search_results_by_seed_point = dict.fromkeys([tuple(s) for s in seed_points])\n",
    "for i, (s, (initial_region, color)) in enumerate(zip(seed_points, initial_regions)):\n",
    "    print(f\"starting seedpoint {i+1}/{len(initial_regions)}\")\n",
    "    time.sleep(0.2)\n",
    "    cert = cspace_free_polytope.BinarySearch(set(),initial_region.A(),\n",
    "                                               initial_region.b(),s,binary_search_options)\n",
    "    binary_search_results_by_seed_point[tuple(s)] = [(cert.certified_polytope, cert, color)]\n",
    "                                                     \n"
   ]
  },
  {
   "cell_type": "code",
   "execution_count": null,
   "metadata": {
    "cell_id": "0547d388754743c58f0baae44fdf4a18",
    "deepnote_cell_type": "code",
    "deepnote_to_be_reexecuted": false,
    "execution_millis": 4189,
    "execution_start": 1677094371593,
    "source_hash": "9f6f0fa1"
   },
   "outputs": [],
   "source": [
    "# visualize the regions and corresponding certificates\n",
    "for i, result in enumerate(binary_search_results_by_seed_point.values()):\n",
    "    group_name = f\"/bin_search/seed_point_{i}\"\n",
    "    visualizer.add_group_of_regions_and_certs_to_visualization(result, group_name, \n",
    "                                                               wireframe = False, opacity = 0.2)"
   ]
  },
  {
   "cell_type": "markdown",
   "metadata": {
    "cell_id": "bc9caaffce894f4cab1b83dbe40a3487",
    "deepnote_cell_type": "markdown"
   },
   "source": [
    "## Combining Binary Search and Bilinear Alternation\n",
    "### Of course, we can get the best of both worlds by combining the two methods"
   ]
  },
  {
   "cell_type": "code",
   "execution_count": null,
   "metadata": {
    "cell_id": "0cf75633430c45d293be2a93c1af6da8",
    "deepnote_cell_type": "code",
    "deepnote_to_be_reexecuted": false,
    "execution_millis": 1,
    "execution_start": 1677094375785,
    "source_hash": "c599ca28"
   },
   "outputs": [],
   "source": [
    "# we use this to back off a bit from the binary search results for numerical reasons\n",
    "def scale_polytope_about_point(hpoly, s, scale):\n",
    "    if not hpoly.PointInSet(s):\n",
    "        raise ValueError(f\"The point s must be in the HPolyhedron\")\n",
    "    b_scaled = scale * hpoly.b() + (1 - scale) * hpoly.A() @ s\n",
    "    return HPolyhedron(hpoly.A(), b_scaled)\n",
    "    "
   ]
  },
  {
   "cell_type": "code",
   "execution_count": null,
   "metadata": {
    "cell_id": "58c90cc9ee6a479a93bc2c21e7393f3f",
    "deepnote_cell_type": "code",
    "deepnote_to_be_reexecuted": false,
    "execution_millis": 187704,
    "execution_start": 1677094522549,
    "source_hash": "2d5029b4"
   },
   "outputs": [],
   "source": [
    "# Now we grow certified regions around each seedpoint using bilinear alternation \n",
    "# starting from the binary certified regions.\n",
    "\n",
    "binary_and_bilinear_certified_regions = binary_search_results_by_seed_point.copy()\n",
    "for i, (s, val) in enumerate(binary_and_bilinear_certified_regions.items()):\n",
    "    (initial_region, cert, color) = val[0]\n",
    "    print(f\"starting seedpoint {i+1}/{len(initial_regions)}\")\n",
    "    time.sleep(0.2)\n",
    "    cur_s = np.array(s)\n",
    "    bilinear_alternation_options.find_polytope_options.s_inner_pts = cur_s\n",
    "    \n",
    "    # We back off a little bit from the binary search solution so that we don't encounter numerical issues.\n",
    "    initial_region = scale_polytope_about_point(initial_region, cur_s, 0.90)\n",
    "    certificates = cspace_free_polytope.SearchWithBilinearAlternation(set(),\n",
    "                                                                      initial_region.A(),\n",
    "                                                                      initial_region.b(), \n",
    "                                                                      bilinear_alternation_options)\n",
    "    binary_and_bilinear_certified_regions[s] += [(result.certified_polytope, result, color) for result in certificates]"
   ]
  },
  {
   "cell_type": "code",
   "execution_count": null,
   "metadata": {
    "cell_id": "42485e3039e94fb7bb9dbc97842cfd1c",
    "deepnote_cell_type": "code",
    "deepnote_to_be_reexecuted": false,
    "execution_millis": 4993,
    "execution_start": 1677095413533,
    "source_hash": "9477f069"
   },
   "outputs": [],
   "source": [
    "# visualize the regions and corresponding certificates\n",
    "for i, result in enumerate(binary_and_bilinear_certified_regions.values()):\n",
    "    group_name = f\"/bin_then_bil/seed_point_{i}/\"\n",
    "    visualizer.add_group_of_regions_and_certs_to_visualization(result, group_name, \n",
    "                                                               wireframe = False, opacity = 0.2,\n",
    "                                                               fill = False)\n",
    "    visualizer.add_group_of_regions_and_certs_to_visualization([result[-1]], group_name+\"/final\" , \n",
    "                                                               wireframe = False, opacity = 0.2,\n",
    "                                                               line_width = 1)"
   ]
  },
  {
   "cell_type": "markdown",
   "metadata": {
    "created_in_deepnote_cell": true,
    "deepnote_cell_type": "markdown",
    "tags": []
   },
   "source": [
    "<a style='text-decoration:none;line-height:16px;display:flex;color:#5B5B62;padding:10px;justify-content:end;' href='https://deepnote.com?utm_source=created-in-deepnote-cell&projectId=7e82e4f5-f47a-475a-aad3-c88093ed36c6' target=\"_blank\">\n",
    "<img alt='Created in deepnote.com' style='display:inline;max-height:16px;margin:0px;margin-right:7.5px;' src='data:image/svg+xml;base64,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' > </img>\n",
    "Created in <span style='font-weight:600;margin-left:4px;'>Deepnote</span></a>"
   ]
  }
 ],
 "metadata": {
  "deepnote": {},
  "deepnote_execution_queue": [],
  "deepnote_notebook_id": "14f1ee8c795e499ca7f577b6885c10e9",
  "interpreter": {
   "hash": "31f2aee4e71d21fbe5cf8b01ff0e069b9275f58929596ceb00d14d90e3e16cd6"
  },
  "kernelspec": {
   "display_name": "Python 3",
   "language": "python",
   "name": "python3"
  },
  "language_info": {
   "codemirror_mode": {
    "name": "ipython",
    "version": 3
   },
   "file_extension": ".py",
   "mimetype": "text/x-python",
   "name": "python",
   "nbconvert_exporter": "python",
   "pygments_lexer": "ipython3",
   "version": "3.8.10"
  }
 },
 "nbformat": 4,
 "nbformat_minor": 1
}
