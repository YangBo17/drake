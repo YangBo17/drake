{
 "cells": [
  {
   "cell_type": "code",
   "execution_count": 1,
   "metadata": {},
   "outputs": [],
   "source": [
    "%load_ext autoreload"
   ]
  },
  {
   "cell_type": "code",
   "execution_count": 2,
   "metadata": {},
   "outputs": [],
   "source": [
    "import numpy as np\n",
    "from functools import partial\n",
    "import visualizations_utils as viz_utils\n",
    "from iris_plant_visualizer import IrisPlantVisualizer\n",
    "import ipywidgets as widgets\n",
    "from IPython.display import display"
   ]
  },
  {
   "cell_type": "code",
   "execution_count": 3,
   "metadata": {},
   "outputs": [],
   "source": [
    "#pydrake imports\n",
    "from pydrake.common import FindResourceOrThrow\n",
    "from pydrake.multibody.parsing import Parser\n",
    "from pydrake.multibody.plant import AddMultibodyPlantSceneGraph\n",
    "from pydrake.systems.framework import DiagramBuilder\n",
    "from pydrake.geometry import Role, GeometrySet, CollisionFilterDeclaration\n",
    "from pydrake.solvers import mathematicalprogram as mp\n",
    "from pydrake.all import RigidTransform, RollPitchYaw, RevoluteJoint\n",
    "\n",
    "import pydrake.multibody.rational_forward_kinematics as rational_forward_kinematics\n",
    "from pydrake.all import RationalForwardKinematics\n",
    "from pydrake.geometry.optimization import IrisOptionsRationalSpace, IrisInRationalConfigurationSpace, HPolyhedron, Hyperellipsoid"
   ]
  },
  {
   "cell_type": "markdown",
   "metadata": {},
   "source": [
    "# Build and set up the visualization the plant and the visualization of the C-space obstacle\n",
    "\n",
    "Note that running this cell multiple times will establish multiple meshcat instances which can fill up your memory. It is a good idea to call \"pkill -f meshcat\" from the command line before re-running this cell\n"
   ]
  },
  {
   "cell_type": "code",
   "execution_count": 4,
   "metadata": {},
   "outputs": [
    {
     "name": "stderr",
     "output_type": "stream",
     "text": [
      "WARNING:drake:/home/amice/.cache/bazel/_bazel_amice/32fdbbecfa8a7ce8feece95e48c42006/execroot/drake/bazel-out/k8-opt/bin/C_Iris_Examples/pinball_iiwas.runfiles/drake/C_Iris_Examples/assets/twoDOF_iiwa7_with_box_collision.sdf:433: warning: Unsupported SDFormat element in model: plugin\n",
      "WARNING:drake:/home/amice/.cache/bazel/_bazel_amice/32fdbbecfa8a7ce8feece95e48c42006/execroot/drake/bazel-out/k8-opt/bin/C_Iris_Examples/pinball_iiwas.runfiles/drake/C_Iris_Examples/assets/twoDOF_iiwa7_with_box_collision.sdf:37: warning: Unsupported SDFormat element in link: velocity_decay\n",
      "WARNING:drake:/home/amice/.cache/bazel/_bazel_amice/32fdbbecfa8a7ce8feece95e48c42006/execroot/drake/bazel-out/k8-opt/bin/C_Iris_Examples/pinball_iiwas.runfiles/drake/C_Iris_Examples/assets/twoDOF_iiwa7_with_box_collision.sdf:38: warning: Unsupported SDFormat element in link: self_collide\n",
      "WARNING:drake:/home/amice/.cache/bazel/_bazel_amice/32fdbbecfa8a7ce8feece95e48c42006/execroot/drake/bazel-out/k8-opt/bin/C_Iris_Examples/pinball_iiwas.runfiles/drake/C_Iris_Examples/assets/twoDOF_iiwa7_with_box_collision.sdf:74: warning: Unsupported SDFormat element in link: velocity_decay\n",
      "WARNING:drake:/home/amice/.cache/bazel/_bazel_amice/32fdbbecfa8a7ce8feece95e48c42006/execroot/drake/bazel-out/k8-opt/bin/C_Iris_Examples/pinball_iiwas.runfiles/drake/C_Iris_Examples/assets/twoDOF_iiwa7_with_box_collision.sdf:75: warning: Unsupported SDFormat element in link: self_collide\n",
      "WARNING:drake:/home/amice/.cache/bazel/_bazel_amice/32fdbbecfa8a7ce8feece95e48c42006/execroot/drake/bazel-out/k8-opt/bin/C_Iris_Examples/pinball_iiwas.runfiles/drake/C_Iris_Examples/assets/twoDOF_iiwa7_with_box_collision.sdf:130: warning: Unsupported SDFormat element in link: velocity_decay\n",
      "WARNING:drake:/home/amice/.cache/bazel/_bazel_amice/32fdbbecfa8a7ce8feece95e48c42006/execroot/drake/bazel-out/k8-opt/bin/C_Iris_Examples/pinball_iiwas.runfiles/drake/C_Iris_Examples/assets/twoDOF_iiwa7_with_box_collision.sdf:131: warning: Unsupported SDFormat element in link: self_collide\n",
      "WARNING:drake:/home/amice/.cache/bazel/_bazel_amice/32fdbbecfa8a7ce8feece95e48c42006/execroot/drake/bazel-out/k8-opt/bin/C_Iris_Examples/pinball_iiwas.runfiles/drake/C_Iris_Examples/assets/twoDOF_iiwa7_with_box_collision.sdf:186: warning: Unsupported SDFormat element in link: velocity_decay\n",
      "WARNING:drake:/home/amice/.cache/bazel/_bazel_amice/32fdbbecfa8a7ce8feece95e48c42006/execroot/drake/bazel-out/k8-opt/bin/C_Iris_Examples/pinball_iiwas.runfiles/drake/C_Iris_Examples/assets/twoDOF_iiwa7_with_box_collision.sdf:187: warning: Unsupported SDFormat element in link: self_collide\n",
      "WARNING:drake:/home/amice/.cache/bazel/_bazel_amice/32fdbbecfa8a7ce8feece95e48c42006/execroot/drake/bazel-out/k8-opt/bin/C_Iris_Examples/pinball_iiwas.runfiles/drake/C_Iris_Examples/assets/twoDOF_iiwa7_with_box_collision.sdf:242: warning: Unsupported SDFormat element in link: velocity_decay\n",
      "WARNING:drake:/home/amice/.cache/bazel/_bazel_amice/32fdbbecfa8a7ce8feece95e48c42006/execroot/drake/bazel-out/k8-opt/bin/C_Iris_Examples/pinball_iiwas.runfiles/drake/C_Iris_Examples/assets/twoDOF_iiwa7_with_box_collision.sdf:243: warning: Unsupported SDFormat element in link: self_collide\n",
      "WARNING:drake:/home/amice/.cache/bazel/_bazel_amice/32fdbbecfa8a7ce8feece95e48c42006/execroot/drake/bazel-out/k8-opt/bin/C_Iris_Examples/pinball_iiwas.runfiles/drake/C_Iris_Examples/assets/twoDOF_iiwa7_with_box_collision.sdf:298: warning: Unsupported SDFormat element in link: velocity_decay\n",
      "WARNING:drake:/home/amice/.cache/bazel/_bazel_amice/32fdbbecfa8a7ce8feece95e48c42006/execroot/drake/bazel-out/k8-opt/bin/C_Iris_Examples/pinball_iiwas.runfiles/drake/C_Iris_Examples/assets/twoDOF_iiwa7_with_box_collision.sdf:299: warning: Unsupported SDFormat element in link: self_collide\n",
      "WARNING:drake:/home/amice/.cache/bazel/_bazel_amice/32fdbbecfa8a7ce8feece95e48c42006/execroot/drake/bazel-out/k8-opt/bin/C_Iris_Examples/pinball_iiwas.runfiles/drake/C_Iris_Examples/assets/twoDOF_iiwa7_with_box_collision.sdf:354: warning: Unsupported SDFormat element in link: velocity_decay\n",
      "WARNING:drake:/home/amice/.cache/bazel/_bazel_amice/32fdbbecfa8a7ce8feece95e48c42006/execroot/drake/bazel-out/k8-opt/bin/C_Iris_Examples/pinball_iiwas.runfiles/drake/C_Iris_Examples/assets/twoDOF_iiwa7_with_box_collision.sdf:355: warning: Unsupported SDFormat element in link: self_collide\n",
      "WARNING:drake:/home/amice/.cache/bazel/_bazel_amice/32fdbbecfa8a7ce8feece95e48c42006/execroot/drake/bazel-out/k8-opt/bin/C_Iris_Examples/pinball_iiwas.runfiles/drake/C_Iris_Examples/assets/twoDOF_iiwa7_with_box_collision.sdf:410: warning: Unsupported SDFormat element in link: velocity_decay\n",
      "WARNING:drake:/home/amice/.cache/bazel/_bazel_amice/32fdbbecfa8a7ce8feece95e48c42006/execroot/drake/bazel-out/k8-opt/bin/C_Iris_Examples/pinball_iiwas.runfiles/drake/C_Iris_Examples/assets/twoDOF_iiwa7_with_box_collision.sdf:411: warning: Unsupported SDFormat element in link: self_collide\n",
      "WARNING:drake:/home/amice/.cache/bazel/_bazel_amice/32fdbbecfa8a7ce8feece95e48c42006/execroot/drake/bazel-out/k8-opt/bin/C_Iris_Examples/pinball_iiwas.runfiles/drake/C_Iris_Examples/assets/oneDOF_iiwa7_with_box_collision.sdf:433: warning: Unsupported SDFormat element in model: plugin\n",
      "WARNING:drake:/home/amice/.cache/bazel/_bazel_amice/32fdbbecfa8a7ce8feece95e48c42006/execroot/drake/bazel-out/k8-opt/bin/C_Iris_Examples/pinball_iiwas.runfiles/drake/C_Iris_Examples/assets/oneDOF_iiwa7_with_box_collision.sdf:37: warning: Unsupported SDFormat element in link: velocity_decay\n",
      "WARNING:drake:/home/amice/.cache/bazel/_bazel_amice/32fdbbecfa8a7ce8feece95e48c42006/execroot/drake/bazel-out/k8-opt/bin/C_Iris_Examples/pinball_iiwas.runfiles/drake/C_Iris_Examples/assets/oneDOF_iiwa7_with_box_collision.sdf:38: warning: Unsupported SDFormat element in link: self_collide\n",
      "WARNING:drake:/home/amice/.cache/bazel/_bazel_amice/32fdbbecfa8a7ce8feece95e48c42006/execroot/drake/bazel-out/k8-opt/bin/C_Iris_Examples/pinball_iiwas.runfiles/drake/C_Iris_Examples/assets/oneDOF_iiwa7_with_box_collision.sdf:74: warning: Unsupported SDFormat element in link: velocity_decay\n",
      "WARNING:drake:/home/amice/.cache/bazel/_bazel_amice/32fdbbecfa8a7ce8feece95e48c42006/execroot/drake/bazel-out/k8-opt/bin/C_Iris_Examples/pinball_iiwas.runfiles/drake/C_Iris_Examples/assets/oneDOF_iiwa7_with_box_collision.sdf:75: warning: Unsupported SDFormat element in link: self_collide\n",
      "WARNING:drake:/home/amice/.cache/bazel/_bazel_amice/32fdbbecfa8a7ce8feece95e48c42006/execroot/drake/bazel-out/k8-opt/bin/C_Iris_Examples/pinball_iiwas.runfiles/drake/C_Iris_Examples/assets/oneDOF_iiwa7_with_box_collision.sdf:130: warning: Unsupported SDFormat element in link: velocity_decay\n",
      "WARNING:drake:/home/amice/.cache/bazel/_bazel_amice/32fdbbecfa8a7ce8feece95e48c42006/execroot/drake/bazel-out/k8-opt/bin/C_Iris_Examples/pinball_iiwas.runfiles/drake/C_Iris_Examples/assets/oneDOF_iiwa7_with_box_collision.sdf:131: warning: Unsupported SDFormat element in link: self_collide\n",
      "WARNING:drake:/home/amice/.cache/bazel/_bazel_amice/32fdbbecfa8a7ce8feece95e48c42006/execroot/drake/bazel-out/k8-opt/bin/C_Iris_Examples/pinball_iiwas.runfiles/drake/C_Iris_Examples/assets/oneDOF_iiwa7_with_box_collision.sdf:186: warning: Unsupported SDFormat element in link: velocity_decay\n",
      "WARNING:drake:/home/amice/.cache/bazel/_bazel_amice/32fdbbecfa8a7ce8feece95e48c42006/execroot/drake/bazel-out/k8-opt/bin/C_Iris_Examples/pinball_iiwas.runfiles/drake/C_Iris_Examples/assets/oneDOF_iiwa7_with_box_collision.sdf:187: warning: Unsupported SDFormat element in link: self_collide\n",
      "WARNING:drake:/home/amice/.cache/bazel/_bazel_amice/32fdbbecfa8a7ce8feece95e48c42006/execroot/drake/bazel-out/k8-opt/bin/C_Iris_Examples/pinball_iiwas.runfiles/drake/C_Iris_Examples/assets/oneDOF_iiwa7_with_box_collision.sdf:242: warning: Unsupported SDFormat element in link: velocity_decay\n",
      "WARNING:drake:/home/amice/.cache/bazel/_bazel_amice/32fdbbecfa8a7ce8feece95e48c42006/execroot/drake/bazel-out/k8-opt/bin/C_Iris_Examples/pinball_iiwas.runfiles/drake/C_Iris_Examples/assets/oneDOF_iiwa7_with_box_collision.sdf:243: warning: Unsupported SDFormat element in link: self_collide\n",
      "WARNING:drake:/home/amice/.cache/bazel/_bazel_amice/32fdbbecfa8a7ce8feece95e48c42006/execroot/drake/bazel-out/k8-opt/bin/C_Iris_Examples/pinball_iiwas.runfiles/drake/C_Iris_Examples/assets/oneDOF_iiwa7_with_box_collision.sdf:298: warning: Unsupported SDFormat element in link: velocity_decay\n"
     ]
    },
    {
     "name": "stderr",
     "output_type": "stream",
     "text": [
      "WARNING:drake:/home/amice/.cache/bazel/_bazel_amice/32fdbbecfa8a7ce8feece95e48c42006/execroot/drake/bazel-out/k8-opt/bin/C_Iris_Examples/pinball_iiwas.runfiles/drake/C_Iris_Examples/assets/oneDOF_iiwa7_with_box_collision.sdf:299: warning: Unsupported SDFormat element in link: self_collide\n",
      "WARNING:drake:/home/amice/.cache/bazel/_bazel_amice/32fdbbecfa8a7ce8feece95e48c42006/execroot/drake/bazel-out/k8-opt/bin/C_Iris_Examples/pinball_iiwas.runfiles/drake/C_Iris_Examples/assets/oneDOF_iiwa7_with_box_collision.sdf:354: warning: Unsupported SDFormat element in link: velocity_decay\n",
      "WARNING:drake:/home/amice/.cache/bazel/_bazel_amice/32fdbbecfa8a7ce8feece95e48c42006/execroot/drake/bazel-out/k8-opt/bin/C_Iris_Examples/pinball_iiwas.runfiles/drake/C_Iris_Examples/assets/oneDOF_iiwa7_with_box_collision.sdf:355: warning: Unsupported SDFormat element in link: self_collide\n",
      "WARNING:drake:/home/amice/.cache/bazel/_bazel_amice/32fdbbecfa8a7ce8feece95e48c42006/execroot/drake/bazel-out/k8-opt/bin/C_Iris_Examples/pinball_iiwas.runfiles/drake/C_Iris_Examples/assets/oneDOF_iiwa7_with_box_collision.sdf:410: warning: Unsupported SDFormat element in link: velocity_decay\n",
      "WARNING:drake:/home/amice/.cache/bazel/_bazel_amice/32fdbbecfa8a7ce8feece95e48c42006/execroot/drake/bazel-out/k8-opt/bin/C_Iris_Examples/pinball_iiwas.runfiles/drake/C_Iris_Examples/assets/oneDOF_iiwa7_with_box_collision.sdf:411: warning: Unsupported SDFormat element in link: self_collide\n",
      "INFO:drake:Meshcat listening for connections at http://localhost:7008\n",
      "INFO:drake:Meshcat listening for connections at http://localhost:7009\n",
      "/home/amice/Documents/coding_projects/drake/C_Iris_Examples/iris_plant_visualizer.py:31: DrakeDeprecationWarning: MeshcatVisualizerCpp has been renamed to MeshcatVisualizer. The deprecated code will be removed from Drake on or after 2022-11-01.\n",
      "  self.vis = MeshcatVisualizerCpp.AddToBuilder(builder, scene_graph, self.meshcat1)\n"
     ]
    }
   ],
   "source": [
    "builder = DiagramBuilder()\n",
    "plant, scene_graph = AddMultibodyPlantSceneGraph(builder, time_step=0.001)\n",
    "parser = Parser(plant)\n",
    "oneDOF_iiwa_asset = FindResourceOrThrow(\"drake/C_Iris_Examples/assets/oneDOF_iiwa7_with_box_collision.sdf\")\n",
    "twoDOF_iiwa_asset = FindResourceOrThrow(\"drake/C_Iris_Examples/assets/twoDOF_iiwa7_with_box_collision.sdf\")\n",
    "\n",
    "box_asset = FindResourceOrThrow(\"drake/C_Iris_Examples/assets/box_small.urdf\")\n",
    "\n",
    "models = []\n",
    "models.append(parser.AddModelFromFile(box_asset))\n",
    "models.append(parser.AddModelFromFile(twoDOF_iiwa_asset))\n",
    "models.append(parser.AddModelFromFile(oneDOF_iiwa_asset))\n",
    "\n",
    "\n",
    "\n",
    "locs = [[0.,0.,0.],\n",
    "        [0.,.55,0.],\n",
    "        [0.,-.55,0.]]\n",
    "plant.WeldFrames(plant.world_frame(), \n",
    "                 plant.GetFrameByName(\"base\", models[0]),\n",
    "                 RigidTransform(locs[0]))\n",
    "plant.WeldFrames(plant.world_frame(), \n",
    "                 plant.GetFrameByName(\"iiwa_twoDOF_link_0\", models[1]), \n",
    "                 RigidTransform(RollPitchYaw([0,0, -np.pi/2]).ToRotationMatrix(), locs[1]))\n",
    "plant.WeldFrames(plant.world_frame(), \n",
    "                 plant.GetFrameByName(\"iiwa_oneDOF_link_0\", models[2]), \n",
    "                 RigidTransform(RollPitchYaw([0,0, -np.pi/2]).ToRotationMatrix(), locs[2]))\n",
    "\n",
    "\n",
    "plant.Finalize()\n",
    "\n",
    "idx = 0\n",
    "q0 = [0.0, 0.0, 0.0]\n",
    "q_low  = [-1.7, -2., -1.7]\n",
    "q_high = [ 1.7,  2.,  1.7]\n",
    "# set the joint limits of the plant\n",
    "for model in models:\n",
    "    for joint_index in plant.GetJointIndices(model):\n",
    "        joint = plant.get_mutable_joint(joint_index)\n",
    "        if isinstance(joint, RevoluteJoint):\n",
    "            joint.set_default_angle(q0[idx])\n",
    "            joint.set_position_limits(lower_limits= np.array([q_low[idx]]), upper_limits= np.array([q_high[idx]]))\n",
    "            idx += 1\n",
    "        \n",
    "# construct the RationalForwardKinematics of this plant. This object handles the\n",
    "# computations for the forward kinematics in the tangent-configuration space\n",
    "Ratfk = RationalForwardKinematics(plant)\n",
    "\n",
    "# the point about which we will take the stereographic projections\n",
    "q_star = np.zeros(3)\n",
    "\n",
    "#compute limits in t-space\n",
    "limits_t = []\n",
    "for q in [q_low, q_high]:\n",
    "    limits_t.append(Ratfk.ComputeTValue(np.array(q), q_star))\n",
    "\n",
    "do_viz = True\n",
    "\n",
    "# This line builds the visualization. Change the viz_role to Role.kIllustration if you\n",
    "# want to see the plant with its illustrated geometry or to Role.kProximity\n",
    "visualizer = IrisPlantVisualizer(plant, builder, scene_graph, viz_role=Role.kIllustration)\n",
    "diagram = visualizer.diagram\n",
    "\n",
    "# This line will run marching cubes to generate a mesh of the C-space obstacle\n",
    "# Increase N to increase the resolution of the C-space obstacle.\n",
    "visualizer.visualize_collision_constraint(N = 30)"
   ]
  },
  {
   "cell_type": "markdown",
   "metadata": {},
   "source": [
    "## Set up the sliders so we can move the plant around manually"
   ]
  },
  {
   "cell_type": "code",
   "execution_count": 5,
   "metadata": {
    "scrolled": false
   },
   "outputs": [
    {
     "data": {
      "application/vnd.jupyter.widget-view+json": {
       "model_id": "2c14543fde6541a29caa15e7c937d116",
       "version_major": 2,
       "version_minor": 0
      },
      "text/plain": [
       "FloatSlider(value=0.0, description='q0', max=1.7, min=-1.7)"
      ]
     },
     "metadata": {},
     "output_type": "display_data"
    },
    {
     "data": {
      "application/vnd.jupyter.widget-view+json": {
       "model_id": "355dc8ddad964e419403a0242ceaca86",
       "version_major": 2,
       "version_minor": 0
      },
      "text/plain": [
       "FloatSlider(value=0.0, description='q1', max=2.0, min=-2.0)"
      ]
     },
     "metadata": {},
     "output_type": "display_data"
    },
    {
     "data": {
      "application/vnd.jupyter.widget-view+json": {
       "model_id": "8a85a82c98be426fbcfa670e0dc83d9d",
       "version_major": 2,
       "version_minor": 0
      },
      "text/plain": [
       "FloatSlider(value=0.0, description='q2', max=1.7, min=-1.7)"
      ]
     },
     "metadata": {},
     "output_type": "display_data"
    }
   ],
   "source": [
    "sliders = []\n",
    "sliders.append(widgets.FloatSlider(min=q_low[0], max=q_high[0], value=0, description='q0'))\n",
    "sliders.append(widgets.FloatSlider(min=q_low[1], max=q_high[1], value=0, description='q1'))\n",
    "sliders.append(widgets.FloatSlider(min=q_low[2], max=q_high[2], value=0, description='q2'))\n",
    "\n",
    "q = q0.copy()\n",
    "def handle_slider_change(change, idx):\n",
    "    q[idx] = change['new']\n",
    "    visualizer.showres(q)\n",
    "    visualizer.visualize_planes()\n",
    "    \n",
    "idx = 0\n",
    "for slider in sliders:\n",
    "    slider.observe(partial(handle_slider_change, idx = idx), names='value')\n",
    "    idx+=1\n",
    "\n",
    "for slider in sliders:\n",
    "    display(slider)\n",
    "\n"
   ]
  },
  {
   "cell_type": "code",
   "execution_count": 6,
   "metadata": {
    "scrolled": true
   },
   "outputs": [],
   "source": [
    "# filter fused joints self collisions so they don't interfere with collision engine\n",
    "digaram = visualizer.diagram\n",
    "context = visualizer.diagram_context\n",
    "sg_context = scene_graph.GetMyContextFromRoot(context)\n",
    "inspector = scene_graph.model_inspector()\n",
    "\n",
    "pairs = scene_graph.get_query_output_port().Eval(sg_context).inspector().GetCollisionCandidates()\n",
    "\n",
    "gids = [gid for gid in inspector.GetGeometryIds(GeometrySet(inspector.GetAllGeometryIds()), Role.kProximity)]\n",
    "get_name_of_gid = lambda gid : inspector.GetName(gid)\n",
    "gids.sort(key=get_name_of_gid)\n",
    "iiwa_oneDOF_gids = [gid for gid in gids if \"iiwa7_oneDOF::\" in get_name_of_gid(gid)]\n",
    "iiwa_twoDOF_gids = [gid for gid in gids if \"iiwa7_twoDOF::\" in get_name_of_gid(gid)]\n",
    "\n",
    "oneDOF_fused_col_geom = iiwa_oneDOF_gids[2:]\n",
    "iiwa_oneDOF_fused_set = GeometrySet(oneDOF_fused_col_geom)\n",
    "twoDOF_fused_col_geom = iiwa_twoDOF_gids[4:]\n",
    "iiwa_twoDOF_fused_set = GeometrySet(twoDOF_fused_col_geom)\n",
    "scene_graph.collision_filter_manager()\\\n",
    "            .Apply(CollisionFilterDeclaration().ExcludeWithin(iiwa_oneDOF_fused_set))\n",
    "scene_graph.collision_filter_manager()\\\n",
    "            .Apply(CollisionFilterDeclaration().ExcludeWithin(iiwa_twoDOF_fused_set))"
   ]
  },
  {
   "cell_type": "markdown",
   "metadata": {},
   "source": [
    "# Setup IRIS Options and Generate Regions"
   ]
  },
  {
   "cell_type": "code",
   "execution_count": 7,
   "metadata": {},
   "outputs": [],
   "source": [
    "# Some examples of some seed points which give large regions using the\n",
    "# non-linear programming approach to IRIS described in Algorithm 3\n",
    "seed_points_q = np.array([   [0.0, 0, 0],\n",
    "                              ])\n",
    "seed_points = np.array([Ratfk.ComputeTValue(seed_points_q[idx], np.zeros((3,)))\\\n",
    "                        for idx in range(seed_points_q.shape[0])])\n",
    "if do_viz:\n",
    "    visualizer.plot_seedpoints(seed_points)\n"
   ]
  },
  {
   "cell_type": "code",
   "execution_count": 8,
   "metadata": {},
   "outputs": [],
   "source": [
    "regions = []\n",
    "ellipses = []\n",
    "\n",
    "iris_options = IrisOptionsRationalSpace()\n",
    "iris_options.require_sample_point_is_contained = True\n",
    "iris_options.iteration_limit = 20\n",
    "iris_options.configuration_space_margin = 1e-5\n",
    "iris_options.max_faces_per_collision_pair = 60\n",
    "iris_options.termination_threshold = -1\n",
    "iris_options.q_star = np.zeros(3)\n",
    "iris_options.relative_termination_threshold = 0.05\n",
    "iris_options.enable_ibex = False\n",
    "\n",
    "for i, s in enumerate(seed_points):\n",
    "    q = Ratfk.ComputeQValue(s, np.zeros((3,)))\n",
    "    plant.SetPositions(plant.GetMyMutableContextFromRoot(context), q)\n",
    "    r = IrisInRationalConfigurationSpace(plant, plant.GetMyContextFromRoot(context), iris_options)\n",
    "    regions.append(r)\n",
    "    ellipses.append(r.MaximumVolumeInscribedEllipsoid())\n",
    "if do_viz:\n",
    "    visualizer.plot_regions(regions,\n",
    "                            ellipses=ellipses,\n",
    "                            region_suffix='_original')"
   ]
  },
  {
   "cell_type": "markdown",
   "metadata": {},
   "source": [
    "# Certify one region"
   ]
  },
  {
   "cell_type": "code",
   "execution_count": 9,
   "metadata": {},
   "outputs": [],
   "source": [
    "cspace_free_region_certifier = rational_forward_kinematics.CspaceFreeRegion(diagram, plant, scene_graph,\n",
    "                                   rational_forward_kinematics.SeparatingPlaneOrder.kAffine,\n",
    "                                   rational_forward_kinematics.CspaceRegionType.kGenericPolytope)\n",
    "filtered_collision_pairs = set()\n",
    "solver_options = mp.SolverOptions()\n",
    "# make the solver verbose\n",
    "solver_options.SetOption(mp.CommonSolverOption.kPrintToConsole, 1)"
   ]
  },
  {
   "cell_type": "markdown",
   "metadata": {},
   "source": [
    "## first search for a minimal, uniform contraction of a proposed region which can be certified"
   ]
  },
  {
   "cell_type": "code",
   "execution_count": null,
   "metadata": {},
   "outputs": [],
   "source": [
    "i = 0\n",
    "region_to_certify = regions[i]\n",
    "seed_point = seed_points[i,:]\n",
    "if do_viz:\n",
    "    visualizer.plot_regions([region_to_certify], ellipses=None, region_suffix='_original_to_certify')\n",
    "\n",
    "binary_search_options = rational_forward_kinematics.BinarySearchOption()\n",
    "binary_search_options.epsilon_max = 0 # it is very unlikely that we can find a uniform expansion of the current region\n",
    "binary_search_options.max_iters = 3\n",
    "# speed up the bisection search by taking non-uniform steps when possible\n",
    "binary_search_options.search_d = True\n",
    "# find the smallest e such that At <= b + e1 still contains our seed point.\n",
    "binary_search_options.epsilon_min = rational_forward_kinematics.FindEpsilonLower(region_to_certify.A(), region_to_certify.b(),\n",
    "                                                                                 limits_t[0], limits_t[1],\n",
    "                                                                                 seed_point)\n",
    "#use as many threads as possible to speed up computation\n",
    "binary_search_options.num_threads = -1\n",
    "\n",
    "certified_region_contraction_solution = cspace_free_region_certifier.CspacePolytopeBinarySearch(q_star,\n",
    "                                                                 filtered_collision_pairs,\n",
    "                                                                 region_to_certify.A(),\n",
    "                                                                 region_to_certify.b(),\n",
    "                                                                 binary_search_options, \n",
    "                                                                 solver_options,\n",
    "                                                                 seed_point)\n",
    "certified_region_contraction = HPolyhedron(certified_region_contraction_solution.C,\n",
    "                                           certified_region_contraction_solution.d)\n",
    "if do_viz:\n",
    "    visualizer.plot_regions([certified_region_contraction], ellipses=None,\n",
    "                            region_suffix='_certified_region_contraction')"
   ]
  },
  {
   "cell_type": "markdown",
   "metadata": {},
   "source": [
    "## Now that we have a certified region, we can grow it using bilinear alternations"
   ]
  },
  {
   "cell_type": "code",
   "execution_count": null,
   "metadata": {},
   "outputs": [],
   "source": [
    "bilinear_alternation_options = rational_forward_kinematics.BilinearAlternationOption()\n",
    "bilinear_alternation_options.max_iters = 20\n",
    "bilinear_alternation_options.lagrangian_backoff_scale = 0\n",
    "bilinear_alternation_options.polytope_backoff_scale = 0\n",
    "# number of threads used to solve this optimization.\n",
    "bilinear_alternation_options.num_threads = -1\n",
    "\n",
    "certified_region_final_solution, polytope_volumes, ellipsoid_determinants = cspace_free_region_certifier.CspacePolytopeBilinearAlternation(q_star,\n",
    "                                                                 filtered_collision_pairs,\n",
    "                                                                 certified_region_contraction.A(),\n",
    "                                                                 # it is helpful to pullback the solution of the previous step a little bit\n",
    "                                                                 certified_region_contraction.b()-5e-2,\n",
    "                                                                 bilinear_alternation_options, \n",
    "                                                                 solver_options,\n",
    "                                                                 seed_point)\n",
    "final_certified_region = HPolyhedron(certified_region_final_solution.C, certified_region_final_solution.d)\n",
    "if do_viz:\n",
    "    visualizer.plot_regions([final_certified_region], ellipses=None,\n",
    "                            region_suffix='_certified_region_final')"
   ]
  },
  {
   "cell_type": "markdown",
   "metadata": {},
   "source": [
    "## Visualizing the separating planes\n",
    "Our certificate of non-collision for a given region contains one parametric, separating hyperplane per collision pair. In this scene, there are 137 pairs of objects which could collide. We plot two planes of interest. After running this cell, you can move the plant with the slider and see how the planes move as function of the configuration."
   ]
  },
  {
   "cell_type": "code",
   "execution_count": null,
   "metadata": {},
   "outputs": [],
   "source": [
    "oneDOF_iiwa_end_gid = iiwa_oneDOF_gids[-1]\n",
    "twoDOF_iiwa_end_gid = iiwa_twoDOF_gids[-1]\n",
    "twoDOF_iiwa_base_gid = iiwa_twoDOF_gids[0]\n",
    "id_pairs_of_interest = [(oneDOF_iiwa_end_gid, twoDOF_iiwa_end_gid),\n",
    "                        (oneDOF_iiwa_end_gid, twoDOF_iiwa_base_gid)]\n",
    "\n",
    "            \n",
    "visualizer.collision_pairs_of_interest = id_pairs_of_interest\n",
    "visualizer.certified_region_solution_list = [certified_region_final_solution]"
   ]
  }
 ],
 "metadata": {
  "interpreter": {
   "hash": "916dbcbb3f70747c44a77c7bcd40155683ae19c65e1c03b4aa3499c5328201f1"
  },
  "kernelspec": {
   "display_name": "Python 3",
   "language": "python",
   "name": "python3"
  },
  "language_info": {
   "codemirror_mode": {
    "name": "ipython",
    "version": 3
   },
   "file_extension": ".py",
   "mimetype": "text/x-python",
   "name": "python",
   "nbconvert_exporter": "python",
   "pygments_lexer": "ipython3",
   "version": "3.8.10"
  }
 },
 "nbformat": 4,
 "nbformat_minor": 2
}
